{
 "cells": [
  {
   "cell_type": "code",
   "execution_count": 1,
   "id": "a0c987f4",
   "metadata": {
    "id": "a0c987f4"
   },
   "outputs": [],
   "source": [
    "import torch\n",
    "import torch.nn as nn\n",
    "import torch.nn.functional as F\n",
    "from torch.utils.data import DataLoader, TensorDataset\n",
    "import time\n",
    "\n",
    "import numpy as np\n",
    "import matplotlib.pyplot as plt\n",
    "import string\n",
    "import re\n",
    "from numpy import array, argmax, random, take\n",
    "import pandas as pd\n",
    "from keras.preprocessing.text import Tokenizer\n",
    "from keras.callbacks import ModelCheckpoint\n",
    "from keras_preprocessing.sequence import pad_sequences\n",
    "from keras.models import load_model\n",
    "from keras import optimizers\n",
    "\n",
    "\n",
    "import warnings \n",
    "warnings.filterwarnings('ignore')"
   ]
  },
  {
   "cell_type": "markdown",
   "id": "ca9037e0",
   "metadata": {
    "colab": {
     "base_uri": "https://localhost:8080/"
    },
    "id": "Kt3WAFpBfPDt",
    "outputId": "bbda3ef7-ec81-470b-99f0-d047390e8f35"
   },
   "source": [
    "from google.colab import drive\n",
    "drive.mount('/content/drive')"
   ]
  },
  {
   "cell_type": "markdown",
   "id": "9144b99e",
   "metadata": {
    "id": "0d7f03c1"
   },
   "source": [
    "train_path_en = \"/content/drive/MyDrive/train.lc.norm.tok.en\"\n",
    "train_path_de = \"/content/drive/MyDrive/train.lc.norm.tok.de\"\n",
    "test_path_en = \"/content/drive/MyDrive/test_2017_flickr.lc.norm.tok.en\"\n",
    "test_path_de = \"/content/drive/MyDrive/test_2017_flickr.lc.norm.tok.de\""
   ]
  },
  {
   "cell_type": "code",
   "execution_count": 2,
   "id": "b9458519",
   "metadata": {},
   "outputs": [],
   "source": [
    "train_path_en = \"train.lc.norm.tok.en\"\n",
    "train_path_de = \"train.lc.norm.tok.de\"\n",
    "test_path_en = \"test_2017_flickr.lc.norm.tok.en\"\n",
    "test_path_de = \"test_2017_flickr.lc.norm.tok.de\""
   ]
  },
  {
   "cell_type": "code",
   "execution_count": 3,
   "id": "9cac80ca",
   "metadata": {
    "colab": {
     "base_uri": "https://localhost:8080/"
    },
    "id": "9cac80ca",
    "outputId": "f9755a27-9953-4c18-c49d-8ad112a328c6"
   },
   "outputs": [
    {
     "data": {
      "text/plain": [
       "device(type='cpu')"
      ]
     },
     "execution_count": 3,
     "metadata": {},
     "output_type": "execute_result"
    }
   ],
   "source": [
    "device = torch.device('cuda' if torch.cuda.is_available() else 'cpu')\n",
    "device"
   ]
  },
  {
   "cell_type": "code",
   "execution_count": 4,
   "id": "77552a0a",
   "metadata": {
    "id": "77552a0a"
   },
   "outputs": [],
   "source": [
    "with open(train_path_en) as en_raw_train:\n",
    "    en_train = en_raw_train.readlines()\n",
    "with open(train_path_de) as de_raw_train:\n",
    "    de_train = de_raw_train.readlines()\n",
    "with open(test_path_en) as en_raw_test:\n",
    "    en_test = en_raw_test.readlines()\n",
    "with open(test_path_de) as de_raw_test:\n",
    "    de_test = de_raw_test.readlines()"
   ]
  },
  {
   "cell_type": "code",
   "execution_count": 5,
   "id": "4c22a6ba",
   "metadata": {
    "colab": {
     "base_uri": "https://localhost:8080/"
    },
    "id": "4c22a6ba",
    "outputId": "4ee4c582-7fdc-4abc-dbf9-e1ff3e4f2ded"
   },
   "outputs": [
    {
     "name": "stdout",
     "output_type": "stream",
     "text": [
      "29000\n",
      "29000\n",
      "1000\n",
      "1000\n"
     ]
    }
   ],
   "source": [
    "print(len(en_train))\n",
    "print(len(de_train))\n",
    "print(len(en_test))\n",
    "print(len(de_test))"
   ]
  },
  {
   "cell_type": "code",
   "execution_count": 6,
   "id": "73214a34",
   "metadata": {
    "colab": {
     "base_uri": "https://localhost:8080/"
    },
    "id": "73214a34",
    "outputId": "d53d5027-fb63-4e8c-f962-949d665a2af9"
   },
   "outputs": [
    {
     "name": "stdout",
     "output_type": "stream",
     "text": [
      "German zwei junge weiße männer sind im freien in der nähe vieler büsche .\n",
      "English: two young , white males are outside near many bushes .\n",
      "German mehrere männer mit schutzhelmen bedienen ein antriebsradsystem .\n",
      "English: several men in hard hats are operating a giant pulley system .\n",
      "German ein kleines mädchen klettert in ein spielhaus aus holz .\n",
      "English: a little girl climbing into a wooden playhouse .\n",
      "German ein mann in einem blauen hemd steht auf einer leiter und putzt ein fenster .\n",
      "English: a man in a blue shirt is standing on a ladder cleaning a window .\n",
      "German zwei männer stehen am herd und bereiten essen zu .\n",
      "English: two men are at the stove preparing food .\n"
     ]
    }
   ],
   "source": [
    "for i in range(5):\n",
    "    print('German', de_train[i].strip())\n",
    "    print('English:', en_train[i].strip())\n",
    "    "
   ]
  },
  {
   "cell_type": "markdown",
   "id": "aad81a90",
   "metadata": {},
   "source": [
    "# Text Preprocessing"
   ]
  },
  {
   "cell_type": "code",
   "execution_count": 7,
   "id": "ae80ab6f",
   "metadata": {
    "id": "ae80ab6f"
   },
   "outputs": [],
   "source": [
    "en_train = [sent.strip().split(\" \") for sent in en_train] \n",
    "en_test = [sent.strip().split(\" \") for sent in en_test]\n",
    "\n",
    "de_train = [sent.strip().split(\" \") for sent in de_train]\n",
    "de_test = [sent.strip().split(\" \") for sent in de_test]"
   ]
  },
  {
   "cell_type": "code",
   "execution_count": 8,
   "id": "829177da",
   "metadata": {
    "id": "829177da"
   },
   "outputs": [
    {
     "data": {
      "text/plain": [
       "['<PAD>',\n",
       " '<SOS>',\n",
       " '<EOS>',\n",
       " 'two',\n",
       " 'young',\n",
       " ',',\n",
       " 'white',\n",
       " 'males',\n",
       " 'are',\n",
       " 'outside']"
      ]
     },
     "execution_count": 8,
     "metadata": {},
     "output_type": "execute_result"
    }
   ],
   "source": [
    "en_index2word = [\"<PAD>\", \"<SOS>\", \"<EOS>\"]\n",
    "de_index2word = [\"<PAD>\", \"<SOS>\", \"<EOS>\"]\n",
    "\n",
    "for data in [en_train, en_test]:\n",
    "    for i in data:\n",
    "        for token in i:\n",
    "            if token not in en_index2word:\n",
    "                en_index2word.append(token)\n",
    "\n",
    "en_index2word[:10]"
   ]
  },
  {
   "cell_type": "code",
   "execution_count": 9,
   "id": "b5f152e0",
   "metadata": {},
   "outputs": [
    {
     "data": {
      "text/plain": [
       "['<PAD>',\n",
       " '<SOS>',\n",
       " '<EOS>',\n",
       " 'zwei',\n",
       " 'junge',\n",
       " 'weiße',\n",
       " 'männer',\n",
       " 'sind',\n",
       " 'im',\n",
       " 'freien']"
      ]
     },
     "execution_count": 9,
     "metadata": {},
     "output_type": "execute_result"
    }
   ],
   "source": [
    "for data in [de_train, de_test]:\n",
    "    for i in data:\n",
    "        for token in i:\n",
    "            if token not in de_index2word:\n",
    "                de_index2word.append(token)\n",
    "                \n",
    "de_index2word[:10]"
   ]
  },
  {
   "cell_type": "code",
   "execution_count": 10,
   "id": "e489ecf1",
   "metadata": {
    "id": "e489ecf1"
   },
   "outputs": [],
   "source": [
    "en_word2index = {t: index for index, t in enumerate(en_index2word)}\n",
    "de_word2index = {t: index for index, t in enumerate(de_index2word)}"
   ]
  },
  {
   "cell_type": "code",
   "execution_count": 11,
   "id": "1a53181f",
   "metadata": {
    "id": "1a53181f"
   },
   "outputs": [],
   "source": [
    "en_len = sum([len(i) for i in en_train])/len(en_train)\n",
    "de_len = sum([len(i) for i in de_train])/len(de_train)"
   ]
  },
  {
   "cell_type": "code",
   "execution_count": 12,
   "id": "85098419",
   "metadata": {
    "colab": {
     "base_uri": "https://localhost:8080/"
    },
    "id": "85098419",
    "outputId": "1ce0da12-f6f7-4f68-83ff-bf23be8cf5d1"
   },
   "outputs": [
    {
     "name": "stdout",
     "output_type": "stream",
     "text": [
      "Mean length of english sentences 13.018448275862069\n"
     ]
    }
   ],
   "source": [
    "print('Mean length of english sentences', en_len)"
   ]
  },
  {
   "cell_type": "code",
   "execution_count": 13,
   "id": "c9f41523",
   "metadata": {
    "colab": {
     "base_uri": "https://localhost:8080/"
    },
    "id": "c9f41523",
    "outputId": "9393a04e-0183-47ed-9894-d5247615bc84"
   },
   "outputs": [
    {
     "name": "stdout",
     "output_type": "stream",
     "text": [
      "Mean length of german sentences 12.438137931034483\n"
     ]
    }
   ],
   "source": [
    "print('Mean length of german sentences', de_len)"
   ]
  },
  {
   "cell_type": "code",
   "execution_count": 14,
   "id": "ee88e292",
   "metadata": {
    "id": "ee88e292"
   },
   "outputs": [],
   "source": [
    "seq_length = 25"
   ]
  },
  {
   "cell_type": "code",
   "execution_count": 15,
   "id": "5b603aef",
   "metadata": {
    "id": "5b603aef"
   },
   "outputs": [],
   "source": [
    "def encode_and_pad(vocab, sent, seq_length):\n",
    "    sos = [vocab[\"<SOS>\"]]\n",
    "    eos = [vocab[\"<EOS>\"]]\n",
    "    pad = [vocab[\"<PAD>\"]]\n",
    "\n",
    "    if len(sent) < seq_length - 2: # -2 to include SOS and EOS\n",
    "        n_pads = seq_length - 2 - len(sent)\n",
    "        encoded = [vocab[w] for w in sent]\n",
    "        return sos + encoded + eos + pad * n_pads  # add padding\n",
    "    \n",
    "    else: # if sentence is longer, then truncate\n",
    "        encoded = [vocab[w] for w in sent]\n",
    "        truncated = encoded[:seq_length - 2]\n",
    "        return sos + truncated + eos"
   ]
  },
  {
   "cell_type": "code",
   "execution_count": 16,
   "id": "b8c702fa",
   "metadata": {
    "id": "b8c702fa"
   },
   "outputs": [],
   "source": [
    "#Encode and pad training data\n",
    "train_y = np.array([encode_and_pad(en_word2index, i, seq_length) for i in en_train])\n",
    "train_x = np.array([encode_and_pad(de_word2index, i, seq_length) for i in de_train])\n",
    "\n",
    "\n",
    "# Encode and pad testing data\n",
    "test_y = np.array([encode_and_pad(en_word2index, i, seq_length) for i in en_test])\n",
    "test_x = np.array([encode_and_pad(de_word2index, i, seq_length) for i in de_test])"
   ]
  },
  {
   "cell_type": "code",
   "execution_count": 17,
   "id": "6f368c6b",
   "metadata": {
    "id": "6f368c6b"
   },
   "outputs": [],
   "source": [
    "#Converting to tensor dataset\n",
    "\n",
    "batch_size = 256\n",
    "\n",
    "train_ds = TensorDataset(torch.from_numpy(train_x), torch.from_numpy(train_y))\n",
    "test_ds = TensorDataset(torch.from_numpy(test_x), torch.from_numpy(test_y))\n",
    "\n",
    "\n",
    "trainloader = DataLoader(train_ds, shuffle = True, batch_size = batch_size, drop_last = True)\n",
    "testloader = DataLoader(test_ds, shuffle = True, batch_size = batch_size, drop_last = True)"
   ]
  },
  {
   "cell_type": "code",
   "execution_count": 18,
   "id": "e1c307a4",
   "metadata": {
    "colab": {
     "base_uri": "https://localhost:8080/"
    },
    "id": "e1c307a4",
    "outputId": "e48178e6-40d6-445b-dee1-8e732949a163"
   },
   "outputs": [
    {
     "name": "stdout",
     "output_type": "stream",
     "text": [
      "torch.Size([256, 25]) torch.Size([256, 25])\n"
     ]
    }
   ],
   "source": [
    "for x, y in trainloader:\n",
    "    print(x.shape, y.shape)\n",
    "    break"
   ]
  },
  {
   "cell_type": "code",
   "execution_count": 19,
   "id": "477fd39a",
   "metadata": {},
   "outputs": [
    {
     "name": "stdout",
     "output_type": "stream",
     "text": [
      "tensor([[    1,    20, 18162,  ...,     0,     0,     0],\n",
      "        [    1,    65,    68,  ...,     0,     0,     0],\n",
      "        [    1,    20,     4,  ...,     0,     0,     0],\n",
      "        ...,\n",
      "        [    1,  5994,    17,  ...,     0,     0,     0],\n",
      "        [    1,    20,    28,  ...,     0,     0,     0],\n",
      "        [    1,    20,    28,  ...,     0,     0,     0]])\n"
     ]
    }
   ],
   "source": [
    "for x, y in trainloader:\n",
    "    print(x)\n",
    "    break"
   ]
  },
  {
   "cell_type": "markdown",
   "id": "a79c52fe",
   "metadata": {},
   "source": [
    "# Model Building"
   ]
  },
  {
   "cell_type": "code",
   "execution_count": 20,
   "id": "030bf451",
   "metadata": {
    "id": "030bf451"
   },
   "outputs": [],
   "source": [
    "class EncoderRNN(nn.Module):\n",
    "    def __init__(self, input_size, hidden_size):\n",
    "        super(EncoderRNN, self).__init__()\n",
    "        self.hidden_size = hidden_size\n",
    "\n",
    "        # Embedding layer\n",
    "        self.embedding = nn.Embedding(input_size, hidden_size, padding_idx=0)\n",
    "        \n",
    "        # GRU layer\n",
    "        self.gru = nn.GRU(hidden_size, hidden_size, batch_first=True)\n",
    "\n",
    "    def forward(self, input, hidden):\n",
    "        \n",
    "        # Transform input to embedding\n",
    "        output = self.embedding(input)\n",
    "\n",
    "        output, hidden = self.gru(output, hidden)\n",
    "        return output, hidden\n",
    "\n",
    "    def initHidden(self):\n",
    "        # This method is used to create the innitial hidden states for the encoder\n",
    "        return torch.zeros(1, batch_size, self.hidden_size)"
   ]
  },
  {
   "cell_type": "code",
   "execution_count": 21,
   "id": "4e4fc555",
   "metadata": {
    "id": "4e4fc555"
   },
   "outputs": [],
   "source": [
    "class DecoderRNN(nn.Module):\n",
    "    def __init__(self, hidden_size, output_size):\n",
    "        super(DecoderRNN, self).__init__()\n",
    "        \n",
    "        self.hidden_size = hidden_size\n",
    "        \n",
    "        # Embedding layer\n",
    "        self.embedding = nn.Embedding(output_size, hidden_size, padding_idx=0)\n",
    "        # GRU layer\n",
    "        self.gru = nn.GRU(hidden_size, hidden_size)\n",
    "        # Linear layer\n",
    "        self.out = nn.Linear(hidden_size, output_size)\n",
    "\n",
    "    def forward(self, input, hidden):\n",
    "\n",
    "        # Transform input to embedding\n",
    "        output = self.embedding(input)\n",
    "        output = F.relu(output)\n",
    "        output, hidden = self.gru(output, hidden)\n",
    "        output = F.log_softmax(self.out(output[0]))\n",
    "        \n",
    "        return output, hidden"
   ]
  },
  {
   "cell_type": "code",
   "execution_count": 22,
   "id": "d5578500",
   "metadata": {
    "id": "d5578500"
   },
   "outputs": [],
   "source": [
    "hidden_size = 1200"
   ]
  },
  {
   "cell_type": "code",
   "execution_count": 23,
   "id": "66442996",
   "metadata": {
    "id": "66442996"
   },
   "outputs": [],
   "source": [
    "encoder = EncoderRNN(len(de_index2word), hidden_size).to(device)\n",
    "decoder = DecoderRNN(hidden_size, len(en_index2word)).to(device)"
   ]
  },
  {
   "cell_type": "code",
   "execution_count": 24,
   "id": "8f49f69a",
   "metadata": {
    "colab": {
     "base_uri": "https://localhost:8080/"
    },
    "id": "8f49f69a",
    "outputId": "0bac74fe-ad68-42d6-8f6f-efa013257219"
   },
   "outputs": [
    {
     "data": {
      "text/plain": [
       "EncoderRNN(\n",
       "  (embedding): Embedding(19138, 1200, padding_idx=0)\n",
       "  (gru): GRU(1200, 1200, batch_first=True)\n",
       ")"
      ]
     },
     "execution_count": 24,
     "metadata": {},
     "output_type": "execute_result"
    }
   ],
   "source": [
    "encoder"
   ]
  },
  {
   "cell_type": "code",
   "execution_count": 25,
   "id": "d065506d",
   "metadata": {
    "colab": {
     "base_uri": "https://localhost:8080/"
    },
    "id": "d065506d",
    "outputId": "a441e96c-ac46-4c58-db71-bd57c0c402c1"
   },
   "outputs": [
    {
     "data": {
      "text/plain": [
       "DecoderRNN(\n",
       "  (embedding): Embedding(10395, 1200, padding_idx=0)\n",
       "  (gru): GRU(1200, 1200)\n",
       "  (out): Linear(in_features=1200, out_features=10395, bias=True)\n",
       ")"
      ]
     },
     "execution_count": 25,
     "metadata": {},
     "output_type": "execute_result"
    }
   ],
   "source": [
    "decoder"
   ]
  },
  {
   "cell_type": "code",
   "execution_count": 26,
   "id": "f5b602dc",
   "metadata": {
    "id": "f5b602dc"
   },
   "outputs": [],
   "source": [
    "criterion = nn.CrossEntropyLoss()\n",
    "enc_optimizer = torch.optim.Adam(encoder.parameters(), lr = 0.001)\n",
    "dec_optimizer = torch.optim.Adam(decoder.parameters(), lr = 0.001)"
   ]
  },
  {
   "cell_type": "code",
   "execution_count": 27,
   "id": "1451de23",
   "metadata": {
    "colab": {
     "base_uri": "https://localhost:8080/"
    },
    "id": "1451de23",
    "outputId": "00d029cd-adf7-47eb-ee1a-583042dad151"
   },
   "outputs": [
    {
     "name": "stdout",
     "output_type": "stream",
     "text": [
      "Epoch: 0, Train loss: 3.467 Epoch time = 845.308s\n",
      "Epoch: 1, Train loss: 3.163 Epoch time = 632.948s\n",
      "Epoch: 2, Train loss: 2.970 Epoch time = 651.194s\n",
      "Epoch: 3, Train loss: 2.818 Epoch time = 641.292s\n",
      "Epoch: 4, Train loss: 2.689 Epoch time = 631.372s\n",
      "Epoch: 5, Train loss: 2.578 Epoch time = 637.275s\n",
      "Epoch: 6, Train loss: 2.483 Epoch time = 650.433s\n",
      "Epoch: 7, Train loss: 2.395 Epoch time = 629.560s\n",
      "Epoch: 8, Train loss: 2.316 Epoch time = 633.246s\n",
      "Epoch: 9, Train loss: 2.247 Epoch time = 633.885s\n",
      "Epoch: 10, Train loss: 2.182 Epoch time = 649.839s\n",
      "Epoch: 11, Train loss: 2.123 Epoch time = 642.336s\n",
      "Epoch: 12, Train loss: 2.070 Epoch time = 643.704s\n",
      "Epoch: 13, Train loss: 2.020 Epoch time = 636.710s\n",
      "Epoch: 14, Train loss: 1.974 Epoch time = 646.474s\n",
      "Epoch: 15, Train loss: 1.931 Epoch time = 636.402s\n",
      "Epoch: 16, Train loss: 1.891 Epoch time = 636.428s\n",
      "Epoch: 17, Train loss: 1.853 Epoch time = 635.670s\n",
      "Epoch: 18, Train loss: 1.817 Epoch time = 634.728s\n",
      "Epoch: 19, Train loss: 1.783 Epoch time = 635.088s\n",
      "Epoch: 20, Train loss: 1.750 Epoch time = 637.305s\n",
      "Epoch: 21, Train loss: 1.719 Epoch time = 646.918s\n",
      "Epoch: 22, Train loss: 1.690 Epoch time = 631.960s\n",
      "Epoch: 23, Train loss: 1.663 Epoch time = 667.971s\n",
      "Epoch: 24, Train loss: 1.636 Epoch time = 641.963s\n",
      "Epoch: 25, Train loss: 1.611 Epoch time = 634.235s\n",
      "Epoch: 26, Train loss: 1.586 Epoch time = 640.071s\n",
      "Epoch: 27, Train loss: 1.563 Epoch time = 597.143s\n",
      "Epoch: 28, Train loss: 1.541 Epoch time = 543.945s\n",
      "Epoch: 29, Train loss: 1.519 Epoch time = 553.373s\n",
      "Epoch: 30, Train loss: 1.499 Epoch time = 581.168s\n",
      "Epoch: 31, Train loss: 1.479 Epoch time = 619.127s\n",
      "Epoch: 32, Train loss: 1.459 Epoch time = 629.483s\n",
      "Epoch: 33, Train loss: 1.441 Epoch time = 638.721s\n",
      "Epoch: 34, Train loss: 1.423 Epoch time = 634.131s\n"
     ]
    }
   ],
   "source": [
    "epochs = 35\n",
    "train_loss = []\n",
    "losses = []\n",
    "\n",
    "for epoch in range(epochs):\n",
    "    start_time = time.time()\n",
    "    \n",
    "    for german, english in trainloader:\n",
    "\n",
    "        encoder_hidden = encoder.initHidden() \n",
    "        encoder_hidden = encoder_hidden.to(device)\n",
    "        input_tensor = german.to(device)\n",
    "        target_tensor = english.to(device)\n",
    "        \n",
    "        enc_optimizer.zero_grad()\n",
    "        dec_optimizer.zero_grad()\n",
    "\n",
    "        # Enabling gradient calculation\n",
    "        with torch.set_grad_enabled(True):\n",
    "            \n",
    "            # Encoding\n",
    "            encoder_output, encoder_hidden = encoder(input_tensor, encoder_hidden)\n",
    "\n",
    "            # Decoder placeholder\n",
    "            dec_result = torch.zeros(seq_length, batch_size, len(en_index2word)).to(device)\n",
    "\n",
    "            # Creating a batch of SOS tokens which will all be fed to the decoder\n",
    "            dec_input = target_tensor[:, 0].unsqueeze(dim=0).to(device)\n",
    "\n",
    "            # Hidden states of decoder will be the same as encoder's final hidden state\n",
    "            decoder_hidden = encoder_hidden\n",
    "\n",
    "            # Decoding\n",
    "            for i in range(1, seq_length):\n",
    "                \n",
    "                decoder_output, decoder_hidden = decoder(dec_input, decoder_hidden)\n",
    "                pred = decoder_output.argmax(1)\n",
    "                decoder_input = pred.unsqueeze(dim=0) \n",
    "                #assigning the prediction to decoder result\n",
    "                dec_result[i] = decoder_output\n",
    "\n",
    "\n",
    "            # Creating scores and targets for loss calculation\n",
    "            scores = dec_result.transpose(1, 0)[1:].reshape(-1, dec_result.shape[2])\n",
    "            targets = target_tensor[1:].reshape(-1)\n",
    "\n",
    "            # Calculating loss and back propagating\n",
    "            loss = criterion(scores, targets)\n",
    "            loss.backward()\n",
    "            \n",
    "            # Gradient clipping\n",
    "            torch.nn.utils.clip_grad_norm_(encoder.parameters(), max_norm=1)\n",
    "            torch.nn.utils.clip_grad_norm_(decoder.parameters(), max_norm=1)\n",
    "\n",
    "            enc_optimizer.step()\n",
    "            dec_optimizer.step()\n",
    "\n",
    "            losses.append(loss.item())\n",
    "            \n",
    "    end_time = time.time()\n",
    "    train_loss.append(np.mean(losses))      \n",
    "    print((f\"Epoch: {epoch}, Train loss: {np.mean(losses):.3f} \"\n",
    "           f\"Epoch time = {(end_time - start_time):.3f}s\"))\n",
    "\n",
    "    "
   ]
  },
  {
   "cell_type": "code",
   "execution_count": 28,
   "id": "ac0d9ca9",
   "metadata": {
    "colab": {
     "base_uri": "https://localhost:8080/",
     "height": 283
    },
    "id": "ac0d9ca9",
    "outputId": "c8ff3ade-ea31-4e60-fdcd-725c3c010e56"
   },
   "outputs": [
    {
     "data": {
      "text/plain": [
       "Text(0.5, 1.0, 'Training Loss')"
      ]
     },
     "execution_count": 28,
     "metadata": {},
     "output_type": "execute_result"
    },
    {
     "data": {
      "image/png": "[encoded data removed]",
      "text/plain": [
       "<Figure size 640x480 with 1 Axes>"
      ]
     },
     "metadata": {},
     "output_type": "display_data"
    }
   ],
   "source": [
    "plt.plot(train_loss)\n",
    "plt.title('Training Loss')"
   ]
  },
  {
   "cell_type": "markdown",
   "id": "829395f1",
   "metadata": {},
   "source": [
    "# Decoding"
   ]
  },
  {
   "cell_type": "markdown",
   "id": "b90559ce",
   "metadata": {},
   "source": [
    "### Predicting for some 5 samples"
   ]
  },
  {
   "cell_type": "code",
   "execution_count": 42,
   "id": "7DLR6QBxMtz6",
   "metadata": {
    "colab": {
     "base_uri": "https://localhost:8080/"
    },
    "id": "7DLR6QBxMtz6",
    "outputId": "e2fb7118-eb29-41f7-daa2-7d5129f27ade"
   },
   "outputs": [
    {
     "name": "stdout",
     "output_type": "stream",
     "text": [
      "[50, 92, 5, 49, 98, 80]\n"
     ]
    }
   ],
   "source": [
    "x = [50, 92, 5, 49, 98, 80]\n",
    "\n",
    "print(x)"
   ]
  },
  {
   "cell_type": "code",
   "execution_count": 43,
   "id": "3d8797fd",
   "metadata": {},
   "outputs": [],
   "source": [
    "with open(test_path_de) as de_raw_test:\n",
    "    de_test_parsed = de_raw_test.readlines()\n",
    "    \n",
    "with open(test_path_en) as en_raw_test:\n",
    "    en_test_parsed = en_raw_test.readlines()    "
   ]
  },
  {
   "cell_type": "code",
   "execution_count": 68,
   "id": "435691bf",
   "metadata": {
    "colab": {
     "base_uri": "https://localhost:8080/"
    },
    "id": "435691bf",
    "outputId": "d1d38b2b-af91-4199-c82e-6bc743dc17a5"
   },
   "outputs": [
    {
     "name": "stdout",
     "output_type": "stream",
     "text": [
      "a dog runs on on a beach .\n",
      "two people in bathing are enjoying on the .\n",
      "a man and a woman walking in the . .\n",
      "a is walking through the woods .\n",
      "an old man sitting on while on his train phone .\n",
      "a surfer rides a large wave .\n"
     ]
    }
   ],
   "source": [
    "SOS = de_word2index[\"<SOS>\"]\n",
    "EOS = de_word2index[\"<EOS>\"]\n",
    "\n",
    "english_text = []\n",
    "for j in x:\n",
    "    test_sentence = de_test_parsed[j].strip()\n",
    "\n",
    "    # Tokenizing and encodingthe text data\n",
    "    test_sentence = torch.tensor(encode_and_pad(de_word2index, test_sentence.split(), seq_length)).unsqueeze(dim=0)\n",
    "\n",
    "    encoder_hidden = torch.zeros(1, 1, hidden_size)\n",
    "    encoder_hidden = encoder_hidden.to(device)\n",
    "\n",
    "    input_tensor = test_sentence.to(device)\n",
    "\n",
    "    enc_optimizer.zero_grad()\n",
    "    dec_optimizer.zero_grad()\n",
    "\n",
    "    result = []\n",
    "\n",
    "    encoder_outputs = torch.zeros(seq_length, encoder.hidden_size, device=device)\n",
    "\n",
    "    with torch.set_grad_enabled(False):\n",
    "        \n",
    "        # Encoding and decoding the text data\n",
    "        encoder_output, encoder_hidden = encoder(input_tensor, encoder_hidden)\n",
    "        dec_result = torch.zeros(seq_length, 1, len(en_index2word)).to(device)\n",
    "        dec_input = torch.tensor([SOS]).unsqueeze(dim=0).to(device)\n",
    "        decoder_hidden = encoder_hidden\n",
    "        \n",
    "        #decoding\n",
    "        for i in range(1, seq_length):\n",
    "            decoder_output, decoder_hidden = decoder(dec_input, decoder_hidden)\n",
    "            pred = decoder_output.argmax(1)\n",
    "\n",
    "            # decoding until we find end of string\n",
    "            if pred.item() == EOS or pred.item() == 0:\n",
    "                break\n",
    "  \n",
    "            result.append(en_index2word[pred.to('cpu').item()])\n",
    "            decoder_input = pred.unsqueeze(dim=0) \n",
    "            dec_result[i] = decoder_output\n",
    "\n",
    "        scores = dec_result.reshape(-1, dec_result.shape[2])\n",
    "        targets = target_tensor.reshape(-1)\n",
    "        \n",
    "    print(\" \".join(result))\n",
    "    english_text.append(\" \".join(result))"
   ]
  },
  {
   "cell_type": "code",
   "execution_count": 69,
   "id": "d1206799",
   "metadata": {
    "colab": {
     "base_uri": "https://localhost:8080/"
    },
    "id": "d1206799",
    "outputId": "173dfb81-2edf-465d-e356-265c9237bbd5"
   },
   "outputs": [
    {
     "name": "stdout",
     "output_type": "stream",
     "text": [
      "Actual: a dog is running on a beach . \n",
      " Predicted: a dog runs on on a beach . \n",
      "\n",
      "Actual: two people in kayaks on the water . \n",
      " Predicted: two people in bathing are enjoying on the . \n",
      "\n",
      "Actual: a man and a woman walking in the city \n",
      " Predicted: a man and a woman walking in the . . \n",
      "\n",
      "Actual: a woman is walking through the woods . \n",
      " Predicted: a is walking through the woods . \n",
      "\n",
      "Actual: an old man talking on the phone sitting on a bench \n",
      " Predicted: an old man sitting on while on his train phone . \n",
      "\n",
      "Actual: a surfer rides a big wave . \n",
      " Predicted: a surfer rides a large wave . \n",
      "\n"
     ]
    }
   ],
   "source": [
    "for i in range(6):\n",
    "    print(\"Actual: {} \\n Predicted: {} \\n\".format(en_test_parsed[x[i]].strip(), english_text[i].strip()))"
   ]
  },
  {
   "cell_type": "code",
   "execution_count": 70,
   "id": "_e--Rb7_O3Id",
   "metadata": {
    "id": "_e--Rb7_O3Id"
   },
   "outputs": [],
   "source": [
    "ip_test = []\n",
    "for i in range(6):\n",
    "    ip_test.append(en_test_parsed[x[i]].strip())"
   ]
  },
  {
   "cell_type": "code",
   "execution_count": 71,
   "id": "a81f0634",
   "metadata": {
    "colab": {
     "base_uri": "https://localhost:8080/",
     "height": 206
    },
    "id": "a81f0634",
    "outputId": "a5894686-d760-4ee4-bb0d-74a8fe90151a"
   },
   "outputs": [
    {
     "data": {
      "text/html": [
       "<div>\n",
       "<style scoped>\n",
       "    .dataframe tbody tr th:only-of-type {\n",
       "        vertical-align: middle;\n",
       "    }\n",
       "\n",
       "    .dataframe tbody tr th {\n",
       "        vertical-align: top;\n",
       "    }\n",
       "\n",
       "    .dataframe thead th {\n",
       "        text-align: right;\n",
       "    }\n",
       "</style>\n",
       "<table border=\"1\" class=\"dataframe\">\n",
       "  <thead>\n",
       "    <tr style=\"text-align: right;\">\n",
       "      <th></th>\n",
       "      <th>Actual</th>\n",
       "      <th>Predicted</th>\n",
       "    </tr>\n",
       "  </thead>\n",
       "  <tbody>\n",
       "    <tr>\n",
       "      <th>0</th>\n",
       "      <td>a dog is running on a beach .</td>\n",
       "      <td>a dog runs on on a beach .</td>\n",
       "    </tr>\n",
       "    <tr>\n",
       "      <th>1</th>\n",
       "      <td>two people in kayaks on the water .</td>\n",
       "      <td>two people in bathing are enjoying on the .</td>\n",
       "    </tr>\n",
       "    <tr>\n",
       "      <th>2</th>\n",
       "      <td>a man and a woman walking in the city</td>\n",
       "      <td>a man and a woman walking in the . .</td>\n",
       "    </tr>\n",
       "    <tr>\n",
       "      <th>3</th>\n",
       "      <td>a woman is walking through the woods .</td>\n",
       "      <td>a is walking through the woods .</td>\n",
       "    </tr>\n",
       "    <tr>\n",
       "      <th>4</th>\n",
       "      <td>an old man talking on the phone sitting on a b...</td>\n",
       "      <td>an old man sitting on while on his train phone .</td>\n",
       "    </tr>\n",
       "    <tr>\n",
       "      <th>5</th>\n",
       "      <td>a surfer rides a big wave .</td>\n",
       "      <td>a surfer rides a large wave .</td>\n",
       "    </tr>\n",
       "  </tbody>\n",
       "</table>\n",
       "</div>"
      ],
      "text/plain": [
       "                                              Actual  \\\n",
       "0                      a dog is running on a beach .   \n",
       "1                two people in kayaks on the water .   \n",
       "2              a man and a woman walking in the city   \n",
       "3             a woman is walking through the woods .   \n",
       "4  an old man talking on the phone sitting on a b...   \n",
       "5                        a surfer rides a big wave .   \n",
       "\n",
       "                                          Predicted  \n",
       "0                        a dog runs on on a beach .  \n",
       "1       two people in bathing are enjoying on the .  \n",
       "2              a man and a woman walking in the . .  \n",
       "3                  a is walking through the woods .  \n",
       "4  an old man sitting on while on his train phone .  \n",
       "5                     a surfer rides a large wave .  "
      ]
     },
     "execution_count": 71,
     "metadata": {},
     "output_type": "execute_result"
    }
   ],
   "source": [
    "result_df = pd.DataFrame(list(zip(ip_test, english_text)), columns = ['Actual', 'Predicted'])\n",
    "result_df.head(6)"
   ]
  },
  {
   "cell_type": "markdown",
   "id": "b1388447",
   "metadata": {},
   "source": [
    "## Translating all the testing dataset"
   ]
  },
  {
   "cell_type": "code",
   "execution_count": 64,
   "id": "YkaNT9zFTk3k",
   "metadata": {
    "id": "YkaNT9zFTk3k"
   },
   "outputs": [],
   "source": [
    "english_text = []\n",
    "org_text = []\n",
    "for j in range(len(en_test_parsed)):\n",
    "    test_sentence = de_test_parsed[j].strip()\n",
    "\n",
    "    # Tokenizing and encodingthe text data\n",
    "    test_sentence = torch.tensor(encode_and_pad(de_word2index, test_sentence.split(), seq_length)).unsqueeze(dim=0)\n",
    "\n",
    "    encoder_hidden = torch.zeros(1, 1, hidden_size)\n",
    "    encoder_hidden = encoder_hidden.to(device)\n",
    "\n",
    "    input_tensor = test_sentence.to(device)\n",
    "\n",
    "    enc_optimizer.zero_grad()\n",
    "    dec_optimizer.zero_grad()\n",
    "\n",
    "    result = []\n",
    "\n",
    "    encoder_outputs = torch.zeros(seq_length, encoder.hidden_size, device=device)\n",
    "\n",
    "\n",
    "    with torch.set_grad_enabled(False):\n",
    "        encoder_output, encoder_hidden = encoder(input_tensor, encoder_hidden)\n",
    "\n",
    "        dec_result = torch.zeros(seq_length, 1, len(en_index2word)).to(device)\n",
    "        \n",
    "        decoder_input = torch.tensor([SOS]).unsqueeze(dim=0).to(device)\n",
    "        decoder_hidden = encoder_hidden\n",
    "        for i in range(1, seq_length):\n",
    "            decoder_output, decoder_hidden = decoder(dec_input, decoder_hidden)\n",
    "            pred = decoder_output.argmax(1)\n",
    "\n",
    "            # decoding until we find end of string\n",
    "            if pred.item() == EOS or pred.item() == 0:\n",
    "                break\n",
    "  \n",
    "            result.append(en_index2word[pred.to('cpu').item()])\n",
    "            decoder_input = pred.unsqueeze(dim=0) \n",
    "            dec_result[i] = decoder_output\n",
    "            \n",
    "        scores = dec_result.reshape(-1, dec_result.shape[2])\n",
    "        targets = target_tensor.reshape(-1)\n",
    "        \n",
    "    res = \" \".join(result).split(' ')\n",
    "    eng_text = en_test_parsed[j].strip().split(' ')\n",
    "    \n",
    "    if len(res)>1 and len(eng_text)>1:\n",
    "        english_text.append(\" \".join(result).split(' '))\n",
    "        org_text.append([eng_text])"
   ]
  },
  {
   "cell_type": "code",
   "execution_count": 36,
   "id": "QETI8z2ZKw9p",
   "metadata": {
    "colab": {
     "base_uri": "https://localhost:8080/",
     "height": 1000
    },
    "id": "QETI8z2ZKw9p",
    "outputId": "777c01d9-db59-4265-fd76-0fcb02b34b5e"
   },
   "outputs": [
    {
     "name": "stdout",
     "output_type": "stream",
     "text": [
      "Requirement already satisfied: datasets in /Users/sumitha/opt/miniconda3/envs/tensorflow/lib/python3.9/site-packages (2.7.1)\n",
      "Requirement already satisfied: requests>=2.19.0 in /Users/sumitha/opt/miniconda3/envs/tensorflow/lib/python3.9/site-packages (from datasets) (2.28.1)\n",
      "Requirement already satisfied: dill<0.3.7 in /Users/sumitha/opt/miniconda3/envs/tensorflow/lib/python3.9/site-packages (from datasets) (0.3.6)\n",
      "Requirement already satisfied: xxhash in /Users/sumitha/opt/miniconda3/envs/tensorflow/lib/python3.9/site-packages (from datasets) (3.1.0)\n",
      "Requirement already satisfied: numpy>=1.17 in /Users/sumitha/opt/miniconda3/envs/tensorflow/lib/python3.9/site-packages (from datasets) (1.23.2)\n",
      "Requirement already satisfied: packaging in /Users/sumitha/opt/miniconda3/envs/tensorflow/lib/python3.9/site-packages (from datasets) (21.3)\n",
      "Requirement already satisfied: responses<0.19 in /Users/sumitha/opt/miniconda3/envs/tensorflow/lib/python3.9/site-packages (from datasets) (0.18.0)\n",
      "Requirement already satisfied: tqdm>=4.62.1 in /Users/sumitha/opt/miniconda3/envs/tensorflow/lib/python3.9/site-packages (from datasets) (4.64.1)\n",
      "Requirement already satisfied: multiprocess in /Users/sumitha/opt/miniconda3/envs/tensorflow/lib/python3.9/site-packages (from datasets) (0.70.14)\n",
      "Requirement already satisfied: pyyaml>=5.1 in /Users/sumitha/opt/miniconda3/envs/tensorflow/lib/python3.9/site-packages (from datasets) (6.0)\n",
      "Requirement already satisfied: pandas in /Users/sumitha/opt/miniconda3/envs/tensorflow/lib/python3.9/site-packages (from datasets) (1.5.1)\n",
      "Requirement already satisfied: pyarrow>=6.0.0 in /Users/sumitha/opt/miniconda3/envs/tensorflow/lib/python3.9/site-packages (from datasets) (10.0.1)\n",
      "Requirement already satisfied: fsspec[http]>=2021.11.1 in /Users/sumitha/opt/miniconda3/envs/tensorflow/lib/python3.9/site-packages (from datasets) (2022.11.0)\n",
      "Requirement already satisfied: huggingface-hub<1.0.0,>=0.2.0 in /Users/sumitha/opt/miniconda3/envs/tensorflow/lib/python3.9/site-packages (from datasets) (0.11.1)\n",
      "Requirement already satisfied: aiohttp in /Users/sumitha/opt/miniconda3/envs/tensorflow/lib/python3.9/site-packages (from datasets) (3.8.3)\n",
      "Requirement already satisfied: charset-normalizer<3.0,>=2.0 in /Users/sumitha/opt/miniconda3/envs/tensorflow/lib/python3.9/site-packages (from aiohttp->datasets) (2.1.1)\n",
      "Requirement already satisfied: aiosignal>=1.1.2 in /Users/sumitha/opt/miniconda3/envs/tensorflow/lib/python3.9/site-packages (from aiohttp->datasets) (1.3.1)\n",
      "Requirement already satisfied: yarl<2.0,>=1.0 in /Users/sumitha/opt/miniconda3/envs/tensorflow/lib/python3.9/site-packages (from aiohttp->datasets) (1.8.2)\n",
      "Requirement already satisfied: multidict<7.0,>=4.5 in /Users/sumitha/opt/miniconda3/envs/tensorflow/lib/python3.9/site-packages (from aiohttp->datasets) (6.0.3)\n",
      "Requirement already satisfied: async-timeout<5.0,>=4.0.0a3 in /Users/sumitha/opt/miniconda3/envs/tensorflow/lib/python3.9/site-packages (from aiohttp->datasets) (4.0.2)\n",
      "Requirement already satisfied: attrs>=17.3.0 in /Users/sumitha/opt/miniconda3/envs/tensorflow/lib/python3.9/site-packages (from aiohttp->datasets) (22.1.0)\n",
      "Requirement already satisfied: frozenlist>=1.1.1 in /Users/sumitha/opt/miniconda3/envs/tensorflow/lib/python3.9/site-packages (from aiohttp->datasets) (1.3.3)\n",
      "Requirement already satisfied: typing-extensions>=3.7.4.3 in /Users/sumitha/opt/miniconda3/envs/tensorflow/lib/python3.9/site-packages (from huggingface-hub<1.0.0,>=0.2.0->datasets) (4.4.0)\n",
      "Requirement already satisfied: filelock in /Users/sumitha/opt/miniconda3/envs/tensorflow/lib/python3.9/site-packages (from huggingface-hub<1.0.0,>=0.2.0->datasets) (3.8.2)\n",
      "Requirement already satisfied: pyparsing!=3.0.5,>=2.0.2 in /Users/sumitha/opt/miniconda3/envs/tensorflow/lib/python3.9/site-packages (from packaging->datasets) (3.0.9)\n",
      "Requirement already satisfied: certifi>=2017.4.17 in /Users/sumitha/opt/miniconda3/envs/tensorflow/lib/python3.9/site-packages (from requests>=2.19.0->datasets) (2022.9.24)\n",
      "Requirement already satisfied: idna<4,>=2.5 in /Users/sumitha/opt/miniconda3/envs/tensorflow/lib/python3.9/site-packages (from requests>=2.19.0->datasets) (3.4)\n",
      "Requirement already satisfied: urllib3<1.27,>=1.21.1 in /Users/sumitha/opt/miniconda3/envs/tensorflow/lib/python3.9/site-packages (from requests>=2.19.0->datasets) (1.26.11)\n",
      "Requirement already satisfied: python-dateutil>=2.8.1 in /Users/sumitha/opt/miniconda3/envs/tensorflow/lib/python3.9/site-packages (from pandas->datasets) (2.8.2)\n",
      "Requirement already satisfied: pytz>=2020.1 in /Users/sumitha/opt/miniconda3/envs/tensorflow/lib/python3.9/site-packages (from pandas->datasets) (2022.5)\n",
      "Requirement already satisfied: six>=1.5 in /Users/sumitha/opt/miniconda3/envs/tensorflow/lib/python3.9/site-packages (from python-dateutil>=2.8.1->pandas->datasets) (1.16.0)\n",
      "Note: you may need to restart the kernel to use updated packages.\n"
     ]
    }
   ],
   "source": [
    "pip install datasets"
   ]
  },
  {
   "cell_type": "markdown",
   "id": "909074c0",
   "metadata": {},
   "source": [
    "# Calculating BLEU Score"
   ]
  },
  {
   "cell_type": "code",
   "execution_count": 67,
   "id": "1917a9a7",
   "metadata": {
    "colab": {
     "base_uri": "https://localhost:8080/",
     "height": 119,
     "referenced_widgets": [
      "5dff95201ed94b1ba127225977abc036",
      "e7c7b624893243aba4f5be5b84458128",
      "1765b648798042839034478b3757926e",
      "7c3d5375d7f449fa872700af62e5f3b3",
      "f3d735f1a08847a2a5bb72c2e64d5fd3",
      "c5083376e6034ad79f7126ea4634db7b",
      "69da7cfaba5c44da901debe087b55cb0",
      "a0ea124e79dd4011a36f17d3af51f4db",
      "b976b08d905840919deccee699462204",
      "780bb1b7c0f14e759a6815ea7cdacab1",
      "6b136e88f3d040aeb6a2d0baef11c2bf",
      "d353d1cd61744a6da470309169aa3d5d",
      "4453126b1bf9419c85f4d518eb65864f",
      "8430a825860b45d38b302a7e3afa5ba0",
      "3d45b787ada54d83815deab0b06c68b4",
      "991d1fa8c505415d8b3419a1742c686d",
      "2244072241a9417c88cf306f49e2103c",
      "53843167aef54de89bdde89fab79c64e",
      "3eea0d3e30cd45a785c8f7a60193a468",
      "c2cc6c4ed671460d8cd6464fe02a86b5",
      "a5048e6ca6f64ed9bcd13147dd1a84fa",
      "1b8a624c26544e90a605733e256c4adb"
     ]
    },
    "id": "1917a9a7",
    "outputId": "9e44380b-b6c5-4907-9b8f-81ed43a7e324"
   },
   "outputs": [
    {
     "name": "stdout",
     "output_type": "stream",
     "text": [
      "{'bleu': 0.11818773506551775, 'precisions': [0.46844975331082833, 0.18743485264853596, 0.07254265675703968, 0.030632526598854203], 'brevity_penalty': 1.0, 'length_ratio': 1.0155590717299579, 'translation_length': 11553, 'reference_length': 11376}\n"
     ]
    }
   ],
   "source": [
    "from datasets import load_metric\n",
    "  \n",
    "bleu = load_metric(\"bleu\")\n",
    "predictions = english_text\n",
    "references = org_text\n",
    "print(bleu.compute(predictions=predictions, references=references))"
   ]
  },
  {
   "cell_type": "code",
   "execution_count": null,
   "id": "1e3ffaa2",
   "metadata": {
    "id": "1e3ffaa2"
   },
   "outputs": [],
   "source": []
  },
  {
   "cell_type": "code",
   "execution_count": null,
   "id": "9a7c9f4a",
   "metadata": {
    "id": "9a7c9f4a"
   },
   "outputs": [],
   "source": []
  }
 ],
 "metadata": {
  "accelerator": "GPU",
  "colab": {
   "machine_shape": "hm",
   "provenance": []
  },
  "gpuClass": "standard",
  "kernelspec": {
   "display_name": "Python 3 (ipykernel)",
   "language": "python",
   "name": "python3"
  },
  "language_info": {
   "codemirror_mode": {
    "name": "ipython",
    "version": 3
   },
   "file_extension": ".py",
   "mimetype": "text/x-python",
   "name": "python",
   "nbconvert_exporter": "python",
   "pygments_lexer": "ipython3",
   "version": "3.9.13"
  },
  "widgets": {
   "application/vnd.jupyter.widget-state+json": {
    "1765b648798042839034478b3757926e": {
     "model_module": "@jupyter-widgets/controls",
     "model_module_version": "1.5.0",
     "model_name": "FloatProgressModel",
     "state": {
      "_dom_classes": [],
      "_model_module": "@jupyter-widgets/controls",
      "_model_module_version": "1.5.0",
      "_model_name": "FloatProgressModel",
      "_view_count": null,
      "_view_module": "@jupyter-widgets/controls",
      "_view_module_version": "1.5.0",
      "_view_name": "ProgressView",
      "bar_style": "success",
      "description": "",
      "description_tooltip": null,
      "layout": "IPY_MODEL_a0ea124e79dd4011a36f17d3af51f4db",
      "max": 2478,
      "min": 0,
      "orientation": "horizontal",
      "style": "IPY_MODEL_b976b08d905840919deccee699462204",
      "value": 2478
     }
    },
    "1b8a624c26544e90a605733e256c4adb": {
     "model_module": "@jupyter-widgets/controls",
     "model_module_version": "1.5.0",
     "model_name": "DescriptionStyleModel",
     "state": {
      "_model_module": "@jupyter-widgets/controls",
      "_model_module_version": "1.5.0",
      "_model_name": "DescriptionStyleModel",
      "_view_count": null,
      "_view_module": "@jupyter-widgets/base",
      "_view_module_version": "1.2.0",
      "_view_name": "StyleView",
      "description_width": ""
     }
    },
    "2244072241a9417c88cf306f49e2103c": {
     "model_module": "@jupyter-widgets/base",
     "model_module_version": "1.2.0",
     "model_name": "LayoutModel",
     "state": {
      "_model_module": "@jupyter-widgets/base",
      "_model_module_version": "1.2.0",
      "_model_name": "LayoutModel",
      "_view_count": null,
      "_view_module": "@jupyter-widgets/base",
      "_view_module_version": "1.2.0",
      "_view_name": "LayoutView",
      "align_content": null,
      "align_items": null,
      "align_self": null,
      "border": null,
      "bottom": null,
      "display": null,
      "flex": null,
      "flex_flow": null,
      "grid_area": null,
      "grid_auto_columns": null,
      "grid_auto_flow": null,
      "grid_auto_rows": null,
      "grid_column": null,
      "grid_gap": null,
      "grid_row": null,
      "grid_template_areas": null,
      "grid_template_columns": null,
      "grid_template_rows": null,
      "height": null,
      "justify_content": null,
      "justify_items": null,
      "left": null,
      "margin": null,
      "max_height": null,
      "max_width": null,
      "min_height": null,
      "min_width": null,
      "object_fit": null,
      "object_position": null,
      "order": null,
      "overflow": null,
      "overflow_x": null,
      "overflow_y": null,
      "padding": null,
      "right": null,
      "top": null,
      "visibility": null,
      "width": null
     }
    },
    "3d45b787ada54d83815deab0b06c68b4": {
     "model_module": "@jupyter-widgets/controls",
     "model_module_version": "1.5.0",
     "model_name": "HTMLModel",
     "state": {
      "_dom_classes": [],
      "_model_module": "@jupyter-widgets/controls",
      "_model_module_version": "1.5.0",
      "_model_name": "HTMLModel",
      "_view_count": null,
      "_view_module": "@jupyter-widgets/controls",
      "_view_module_version": "1.5.0",
      "_view_name": "HTMLView",
      "description": "",
      "description_tooltip": null,
      "layout": "IPY_MODEL_a5048e6ca6f64ed9bcd13147dd1a84fa",
      "placeholder": "​",
      "style": "IPY_MODEL_1b8a624c26544e90a605733e256c4adb",
      "value": " 4.07k/? [00:00&lt;00:00, 165kB/s]"
     }
    },
    "3eea0d3e30cd45a785c8f7a60193a468": {
     "model_module": "@jupyter-widgets/base",
     "model_module_version": "1.2.0",
     "model_name": "LayoutModel",
     "state": {
      "_model_module": "@jupyter-widgets/base",
      "_model_module_version": "1.2.0",
      "_model_name": "LayoutModel",
      "_view_count": null,
      "_view_module": "@jupyter-widgets/base",
      "_view_module_version": "1.2.0",
      "_view_name": "LayoutView",
      "align_content": null,
      "align_items": null,
      "align_self": null,
      "border": null,
      "bottom": null,
      "display": null,
      "flex": null,
      "flex_flow": null,
      "grid_area": null,
      "grid_auto_columns": null,
      "grid_auto_flow": null,
      "grid_auto_rows": null,
      "grid_column": null,
      "grid_gap": null,
      "grid_row": null,
      "grid_template_areas": null,
      "grid_template_columns": null,
      "grid_template_rows": null,
      "height": null,
      "justify_content": null,
      "justify_items": null,
      "left": null,
      "margin": null,
      "max_height": null,
      "max_width": null,
      "min_height": null,
      "min_width": null,
      "object_fit": null,
      "object_position": null,
      "order": null,
      "overflow": null,
      "overflow_x": null,
      "overflow_y": null,
      "padding": null,
      "right": null,
      "top": null,
      "visibility": null,
      "width": null
     }
    },
    "4453126b1bf9419c85f4d518eb65864f": {
     "model_module": "@jupyter-widgets/controls",
     "model_module_version": "1.5.0",
     "model_name": "HTMLModel",
     "state": {
      "_dom_classes": [],
      "_model_module": "@jupyter-widgets/controls",
      "_model_module_version": "1.5.0",
      "_model_name": "HTMLModel",
      "_view_count": null,
      "_view_module": "@jupyter-widgets/controls",
      "_view_module_version": "1.5.0",
      "_view_name": "HTMLView",
      "description": "",
      "description_tooltip": null,
      "layout": "IPY_MODEL_2244072241a9417c88cf306f49e2103c",
      "placeholder": "​",
      "style": "IPY_MODEL_53843167aef54de89bdde89fab79c64e",
      "value": "Downloading extra modules: "
     }
    },
    "53843167aef54de89bdde89fab79c64e": {
     "model_module": "@jupyter-widgets/controls",
     "model_module_version": "1.5.0",
     "model_name": "DescriptionStyleModel",
     "state": {
      "_model_module": "@jupyter-widgets/controls",
      "_model_module_version": "1.5.0",
      "_model_name": "DescriptionStyleModel",
      "_view_count": null,
      "_view_module": "@jupyter-widgets/base",
      "_view_module_version": "1.2.0",
      "_view_name": "StyleView",
      "description_width": ""
     }
    },
    "5dff95201ed94b1ba127225977abc036": {
     "model_module": "@jupyter-widgets/controls",
     "model_module_version": "1.5.0",
     "model_name": "HBoxModel",
     "state": {
      "_dom_classes": [],
      "_model_module": "@jupyter-widgets/controls",
      "_model_module_version": "1.5.0",
      "_model_name": "HBoxModel",
      "_view_count": null,
      "_view_module": "@jupyter-widgets/controls",
      "_view_module_version": "1.5.0",
      "_view_name": "HBoxView",
      "box_style": "",
      "children": [
       "IPY_MODEL_e7c7b624893243aba4f5be5b84458128",
       "IPY_MODEL_1765b648798042839034478b3757926e",
       "IPY_MODEL_7c3d5375d7f449fa872700af62e5f3b3"
      ],
      "layout": "IPY_MODEL_f3d735f1a08847a2a5bb72c2e64d5fd3"
     }
    },
    "69da7cfaba5c44da901debe087b55cb0": {
     "model_module": "@jupyter-widgets/controls",
     "model_module_version": "1.5.0",
     "model_name": "DescriptionStyleModel",
     "state": {
      "_model_module": "@jupyter-widgets/controls",
      "_model_module_version": "1.5.0",
      "_model_name": "DescriptionStyleModel",
      "_view_count": null,
      "_view_module": "@jupyter-widgets/base",
      "_view_module_version": "1.2.0",
      "_view_name": "StyleView",
      "description_width": ""
     }
    },
    "6b136e88f3d040aeb6a2d0baef11c2bf": {
     "model_module": "@jupyter-widgets/controls",
     "model_module_version": "1.5.0",
     "model_name": "DescriptionStyleModel",
     "state": {
      "_model_module": "@jupyter-widgets/controls",
      "_model_module_version": "1.5.0",
      "_model_name": "DescriptionStyleModel",
      "_view_count": null,
      "_view_module": "@jupyter-widgets/base",
      "_view_module_version": "1.2.0",
      "_view_name": "StyleView",
      "description_width": ""
     }
    },
    "780bb1b7c0f14e759a6815ea7cdacab1": {
     "model_module": "@jupyter-widgets/base",
     "model_module_version": "1.2.0",
     "model_name": "LayoutModel",
     "state": {
      "_model_module": "@jupyter-widgets/base",
      "_model_module_version": "1.2.0",
      "_model_name": "LayoutModel",
      "_view_count": null,
      "_view_module": "@jupyter-widgets/base",
      "_view_module_version": "1.2.0",
      "_view_name": "LayoutView",
      "align_content": null,
      "align_items": null,
      "align_self": null,
      "border": null,
      "bottom": null,
      "display": null,
      "flex": null,
      "flex_flow": null,
      "grid_area": null,
      "grid_auto_columns": null,
      "grid_auto_flow": null,
      "grid_auto_rows": null,
      "grid_column": null,
      "grid_gap": null,
      "grid_row": null,
      "grid_template_areas": null,
      "grid_template_columns": null,
      "grid_template_rows": null,
      "height": null,
      "justify_content": null,
      "justify_items": null,
      "left": null,
      "margin": null,
      "max_height": null,
      "max_width": null,
      "min_height": null,
      "min_width": null,
      "object_fit": null,
      "object_position": null,
      "order": null,
      "overflow": null,
      "overflow_x": null,
      "overflow_y": null,
      "padding": null,
      "right": null,
      "top": null,
      "visibility": null,
      "width": null
     }
    },
    "7c3d5375d7f449fa872700af62e5f3b3": {
     "model_module": "@jupyter-widgets/controls",
     "model_module_version": "1.5.0",
     "model_name": "HTMLModel",
     "state": {
      "_dom_classes": [],
      "_model_module": "@jupyter-widgets/controls",
      "_model_module_version": "1.5.0",
      "_model_name": "HTMLModel",
      "_view_count": null,
      "_view_module": "@jupyter-widgets/controls",
      "_view_module_version": "1.5.0",
      "_view_name": "HTMLView",
      "description": "",
      "description_tooltip": null,
      "layout": "IPY_MODEL_780bb1b7c0f14e759a6815ea7cdacab1",
      "placeholder": "​",
      "style": "IPY_MODEL_6b136e88f3d040aeb6a2d0baef11c2bf",
      "value": " 6.06k/? [00:00&lt;00:00, 247kB/s]"
     }
    },
    "8430a825860b45d38b302a7e3afa5ba0": {
     "model_module": "@jupyter-widgets/controls",
     "model_module_version": "1.5.0",
     "model_name": "FloatProgressModel",
     "state": {
      "_dom_classes": [],
      "_model_module": "@jupyter-widgets/controls",
      "_model_module_version": "1.5.0",
      "_model_name": "FloatProgressModel",
      "_view_count": null,
      "_view_module": "@jupyter-widgets/controls",
      "_view_module_version": "1.5.0",
      "_view_name": "ProgressView",
      "bar_style": "success",
      "description": "",
      "description_tooltip": null,
      "layout": "IPY_MODEL_3eea0d3e30cd45a785c8f7a60193a468",
      "max": 1554,
      "min": 0,
      "orientation": "horizontal",
      "style": "IPY_MODEL_c2cc6c4ed671460d8cd6464fe02a86b5",
      "value": 1554
     }
    },
    "991d1fa8c505415d8b3419a1742c686d": {
     "model_module": "@jupyter-widgets/base",
     "model_module_version": "1.2.0",
     "model_name": "LayoutModel",
     "state": {
      "_model_module": "@jupyter-widgets/base",
      "_model_module_version": "1.2.0",
      "_model_name": "LayoutModel",
      "_view_count": null,
      "_view_module": "@jupyter-widgets/base",
      "_view_module_version": "1.2.0",
      "_view_name": "LayoutView",
      "align_content": null,
      "align_items": null,
      "align_self": null,
      "border": null,
      "bottom": null,
      "display": null,
      "flex": null,
      "flex_flow": null,
      "grid_area": null,
      "grid_auto_columns": null,
      "grid_auto_flow": null,
      "grid_auto_rows": null,
      "grid_column": null,
      "grid_gap": null,
      "grid_row": null,
      "grid_template_areas": null,
      "grid_template_columns": null,
      "grid_template_rows": null,
      "height": null,
      "justify_content": null,
      "justify_items": null,
      "left": null,
      "margin": null,
      "max_height": null,
      "max_width": null,
      "min_height": null,
      "min_width": null,
      "object_fit": null,
      "object_position": null,
      "order": null,
      "overflow": null,
      "overflow_x": null,
      "overflow_y": null,
      "padding": null,
      "right": null,
      "top": null,
      "visibility": null,
      "width": null
     }
    },
    "a0ea124e79dd4011a36f17d3af51f4db": {
     "model_module": "@jupyter-widgets/base",
     "model_module_version": "1.2.0",
     "model_name": "LayoutModel",
     "state": {
      "_model_module": "@jupyter-widgets/base",
      "_model_module_version": "1.2.0",
      "_model_name": "LayoutModel",
      "_view_count": null,
      "_view_module": "@jupyter-widgets/base",
      "_view_module_version": "1.2.0",
      "_view_name": "LayoutView",
      "align_content": null,
      "align_items": null,
      "align_self": null,
      "border": null,
      "bottom": null,
      "display": null,
      "flex": null,
      "flex_flow": null,
      "grid_area": null,
      "grid_auto_columns": null,
      "grid_auto_flow": null,
      "grid_auto_rows": null,
      "grid_column": null,
      "grid_gap": null,
      "grid_row": null,
      "grid_template_areas": null,
      "grid_template_columns": null,
      "grid_template_rows": null,
      "height": null,
      "justify_content": null,
      "justify_items": null,
      "left": null,
      "margin": null,
      "max_height": null,
      "max_width": null,
      "min_height": null,
      "min_width": null,
      "object_fit": null,
      "object_position": null,
      "order": null,
      "overflow": null,
      "overflow_x": null,
      "overflow_y": null,
      "padding": null,
      "right": null,
      "top": null,
      "visibility": null,
      "width": null
     }
    },
    "a5048e6ca6f64ed9bcd13147dd1a84fa": {
     "model_module": "@jupyter-widgets/base",
     "model_module_version": "1.2.0",
     "model_name": "LayoutModel",
     "state": {
      "_model_module": "@jupyter-widgets/base",
      "_model_module_version": "1.2.0",
      "_model_name": "LayoutModel",
      "_view_count": null,
      "_view_module": "@jupyter-widgets/base",
      "_view_module_version": "1.2.0",
      "_view_name": "LayoutView",
      "align_content": null,
      "align_items": null,
      "align_self": null,
      "border": null,
      "bottom": null,
      "display": null,
      "flex": null,
      "flex_flow": null,
      "grid_area": null,
      "grid_auto_columns": null,
      "grid_auto_flow": null,
      "grid_auto_rows": null,
      "grid_column": null,
      "grid_gap": null,
      "grid_row": null,
      "grid_template_areas": null,
      "grid_template_columns": null,
      "grid_template_rows": null,
      "height": null,
      "justify_content": null,
      "justify_items": null,
      "left": null,
      "margin": null,
      "max_height": null,
      "max_width": null,
      "min_height": null,
      "min_width": null,
      "object_fit": null,
      "object_position": null,
      "order": null,
      "overflow": null,
      "overflow_x": null,
      "overflow_y": null,
      "padding": null,
      "right": null,
      "top": null,
      "visibility": null,
      "width": null
     }
    },
    "b976b08d905840919deccee699462204": {
     "model_module": "@jupyter-widgets/controls",
     "model_module_version": "1.5.0",
     "model_name": "ProgressStyleModel",
     "state": {
      "_model_module": "@jupyter-widgets/controls",
      "_model_module_version": "1.5.0",
      "_model_name": "ProgressStyleModel",
      "_view_count": null,
      "_view_module": "@jupyter-widgets/base",
      "_view_module_version": "1.2.0",
      "_view_name": "StyleView",
      "bar_color": null,
      "description_width": ""
     }
    },
    "c2cc6c4ed671460d8cd6464fe02a86b5": {
     "model_module": "@jupyter-widgets/controls",
     "model_module_version": "1.5.0",
     "model_name": "ProgressStyleModel",
     "state": {
      "_model_module": "@jupyter-widgets/controls",
      "_model_module_version": "1.5.0",
      "_model_name": "ProgressStyleModel",
      "_view_count": null,
      "_view_module": "@jupyter-widgets/base",
      "_view_module_version": "1.2.0",
      "_view_name": "StyleView",
      "bar_color": null,
      "description_width": ""
     }
    },
    "c5083376e6034ad79f7126ea4634db7b": {
     "model_module": "@jupyter-widgets/base",
     "model_module_version": "1.2.0",
     "model_name": "LayoutModel",
     "state": {
      "_model_module": "@jupyter-widgets/base",
      "_model_module_version": "1.2.0",
      "_model_name": "LayoutModel",
      "_view_count": null,
      "_view_module": "@jupyter-widgets/base",
      "_view_module_version": "1.2.0",
      "_view_name": "LayoutView",
      "align_content": null,
      "align_items": null,
      "align_self": null,
      "border": null,
      "bottom": null,
      "display": null,
      "flex": null,
      "flex_flow": null,
      "grid_area": null,
      "grid_auto_columns": null,
      "grid_auto_flow": null,
      "grid_auto_rows": null,
      "grid_column": null,
      "grid_gap": null,
      "grid_row": null,
      "grid_template_areas": null,
      "grid_template_columns": null,
      "grid_template_rows": null,
      "height": null,
      "justify_content": null,
      "justify_items": null,
      "left": null,
      "margin": null,
      "max_height": null,
      "max_width": null,
      "min_height": null,
      "min_width": null,
      "object_fit": null,
      "object_position": null,
      "order": null,
      "overflow": null,
      "overflow_x": null,
      "overflow_y": null,
      "padding": null,
      "right": null,
      "top": null,
      "visibility": null,
      "width": null
     }
    },
    "d353d1cd61744a6da470309169aa3d5d": {
     "model_module": "@jupyter-widgets/controls",
     "model_module_version": "1.5.0",
     "model_name": "HBoxModel",
     "state": {
      "_dom_classes": [],
      "_model_module": "@jupyter-widgets/controls",
      "_model_module_version": "1.5.0",
      "_model_name": "HBoxModel",
      "_view_count": null,
      "_view_module": "@jupyter-widgets/controls",
      "_view_module_version": "1.5.0",
      "_view_name": "HBoxView",
      "box_style": "",
      "children": [
       "IPY_MODEL_4453126b1bf9419c85f4d518eb65864f",
       "IPY_MODEL_8430a825860b45d38b302a7e3afa5ba0",
       "IPY_MODEL_3d45b787ada54d83815deab0b06c68b4"
      ],
      "layout": "IPY_MODEL_991d1fa8c505415d8b3419a1742c686d"
     }
    },
    "e7c7b624893243aba4f5be5b84458128": {
     "model_module": "@jupyter-widgets/controls",
     "model_module_version": "1.5.0",
     "model_name": "HTMLModel",
     "state": {
      "_dom_classes": [],
      "_model_module": "@jupyter-widgets/controls",
      "_model_module_version": "1.5.0",
      "_model_name": "HTMLModel",
      "_view_count": null,
      "_view_module": "@jupyter-widgets/controls",
      "_view_module_version": "1.5.0",
      "_view_name": "HTMLView",
      "description": "",
      "description_tooltip": null,
      "layout": "IPY_MODEL_c5083376e6034ad79f7126ea4634db7b",
      "placeholder": "​",
      "style": "IPY_MODEL_69da7cfaba5c44da901debe087b55cb0",
      "value": "Downloading builder script: "
     }
    },
    "f3d735f1a08847a2a5bb72c2e64d5fd3": {
     "model_module": "@jupyter-widgets/base",
     "model_module_version": "1.2.0",
     "model_name": "LayoutModel",
     "state": {
      "_model_module": "@jupyter-widgets/base",
      "_model_module_version": "1.2.0",
      "_model_name": "LayoutModel",
      "_view_count": null,
      "_view_module": "@jupyter-widgets/base",
      "_view_module_version": "1.2.0",
      "_view_name": "LayoutView",
      "align_content": null,
      "align_items": null,
      "align_self": null,
      "border": null,
      "bottom": null,
      "display": null,
      "flex": null,
      "flex_flow": null,
      "grid_area": null,
      "grid_auto_columns": null,
      "grid_auto_flow": null,
      "grid_auto_rows": null,
      "grid_column": null,
      "grid_gap": null,
      "grid_row": null,
      "grid_template_areas": null,
      "grid_template_columns": null,
      "grid_template_rows": null,
      "height": null,
      "justify_content": null,
      "justify_items": null,
      "left": null,
      "margin": null,
      "max_height": null,
      "max_width": null,
      "min_height": null,
      "min_width": null,
      "object_fit": null,
      "object_position": null,
      "order": null,
      "overflow": null,
      "overflow_x": null,
      "overflow_y": null,
      "padding": null,
      "right": null,
      "top": null,
      "visibility": null,
      "width": null
     }
    }
   }
  }
 },
 "nbformat": 4,
 "nbformat_minor": 5
}
