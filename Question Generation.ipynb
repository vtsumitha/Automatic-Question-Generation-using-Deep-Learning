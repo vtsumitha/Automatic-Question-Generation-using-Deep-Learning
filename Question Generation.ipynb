{
 "cells": [
  {
   "cell_type": "markdown",
   "id": "1975f2d4",
   "metadata": {},
   "source": [
    "pip install gensim==3.8.3"
   ]
  },
  {
   "cell_type": "markdown",
   "id": "a35e7683",
   "metadata": {},
   "source": [
    "!pip install bert-extractive-summarizer"
   ]
  },
  {
   "cell_type": "markdown",
   "id": "a55ec3c7",
   "metadata": {},
   "source": [
    "pip install keybert\n",
    "pip install gensim\n",
    "pip install transformers"
   ]
  },
  {
   "cell_type": "markdown",
   "id": "a6aafa93",
   "metadata": {},
   "source": [
    "## Article Selection"
   ]
  },
  {
   "cell_type": "code",
   "execution_count": 1,
   "id": "027d8b3c",
   "metadata": {},
   "outputs": [
    {
     "data": {
      "text/html": [
       "<div>\n",
       "<style scoped>\n",
       "    .dataframe tbody tr th:only-of-type {\n",
       "        vertical-align: middle;\n",
       "    }\n",
       "\n",
       "    .dataframe tbody tr th {\n",
       "        vertical-align: top;\n",
       "    }\n",
       "\n",
       "    .dataframe thead th {\n",
       "        text-align: right;\n",
       "    }\n",
       "</style>\n",
       "<table border=\"1\" class=\"dataframe\">\n",
       "  <thead>\n",
       "    <tr style=\"text-align: right;\">\n",
       "      <th></th>\n",
       "      <th>0</th>\n",
       "      <th>1</th>\n",
       "      <th>2</th>\n",
       "    </tr>\n",
       "  </thead>\n",
       "  <tbody>\n",
       "    <tr>\n",
       "      <th>0</th>\n",
       "      <td>Sport;21-Jähriger fällt wohl bis Saisonende au...</td>\n",
       "      <td>wie eine Magnetresonanz-Untersuchung am Donne...</td>\n",
       "      <td>muss aber nicht operiert werden. Dennoch steh...</td>\n",
       "    </tr>\n",
       "    <tr>\n",
       "      <th>1</th>\n",
       "      <td>Sport;Traditionsklub setzt sich gegen den FC U...</td>\n",
       "      <td>Utrecht war Fünfter geworden.</td>\n",
       "      <td></td>\n",
       "    </tr>\n",
       "    <tr>\n",
       "      <th>2</th>\n",
       "      <td>International;Militär setzt Offensive an Grenz...</td>\n",
       "      <td>teilte das Militär in Islamabad mit. Es handl...</td>\n",
       "      <td></td>\n",
       "    </tr>\n",
       "    <tr>\n",
       "      <th>3</th>\n",
       "      <td>International;Kämpfe halten trotz vereinbarter...</td>\n",
       "      <td>wie Präsidialamtssprecher Andrej Lyssenko am ...</td>\n",
       "      <td>hieß es. Im Rahmen des in Minsk (Weißrussland...</td>\n",
       "    </tr>\n",
       "    <tr>\n",
       "      <th>4</th>\n",
       "      <td>Kultur;Der in Graz ansässige Schriftsteller  g...</td>\n",
       "      <td>in Graz ansässige Autor Helmut Schranz ist am...</td>\n",
       "      <td>die heuer im April im Ritter-Verlag (Klagenfu...</td>\n",
       "    </tr>\n",
       "  </tbody>\n",
       "</table>\n",
       "</div>"
      ],
      "text/plain": [
       "                                                   0  \\\n",
       "0  Sport;21-Jähriger fällt wohl bis Saisonende au...   \n",
       "1  Sport;Traditionsklub setzt sich gegen den FC U...   \n",
       "2  International;Militär setzt Offensive an Grenz...   \n",
       "3  International;Kämpfe halten trotz vereinbarter...   \n",
       "4  Kultur;Der in Graz ansässige Schriftsteller  g...   \n",
       "\n",
       "                                                   1  \\\n",
       "0   wie eine Magnetresonanz-Untersuchung am Donne...   \n",
       "1                      Utrecht war Fünfter geworden.   \n",
       "2   teilte das Militär in Islamabad mit. Es handl...   \n",
       "3   wie Präsidialamtssprecher Andrej Lyssenko am ...   \n",
       "4   in Graz ansässige Autor Helmut Schranz ist am...   \n",
       "\n",
       "                                                   2  \n",
       "0   muss aber nicht operiert werden. Dennoch steh...  \n",
       "1                                                     \n",
       "2                                                     \n",
       "3   hieß es. Im Rahmen des in Minsk (Weißrussland...  \n",
       "4   die heuer im April im Ritter-Verlag (Klagenfu...  "
      ]
     },
     "execution_count": 1,
     "metadata": {},
     "output_type": "execute_result"
    }
   ],
   "source": [
    "import pandas as pd\n",
    "\n",
    "articles = pd.read_csv('train.csv',on_bad_lines='skip', header = None)\n",
    "articles.fillna(' ', inplace=True)\n",
    "articles.head()"
   ]
  },
  {
   "cell_type": "code",
   "execution_count": 2,
   "id": "72e5f0ee",
   "metadata": {},
   "outputs": [
    {
     "name": "stderr",
     "output_type": "stream",
     "text": [
      "/var/folders/vg/7d4f1ys12s17fxmrbfx48h4h0000gn/T/ipykernel_42327/1983126588.py:3: SettingWithCopyWarning: \n",
      "A value is trying to be set on a copy of a slice from a DataFrame.\n",
      "Try using .loc[row_indexer,col_indexer] = value instead\n",
      "\n",
      "See the caveats in the documentation: https://pandas.pydata.org/pandas-docs/stable/user_guide/indexing.html#returning-a-view-versus-a-copy\n",
      "  articles_new[['Topic','Article']] = articles_new.new.str.split(\";\",n = 1, expand = True)\n",
      "/var/folders/vg/7d4f1ys12s17fxmrbfx48h4h0000gn/T/ipykernel_42327/1983126588.py:3: SettingWithCopyWarning: \n",
      "A value is trying to be set on a copy of a slice from a DataFrame.\n",
      "Try using .loc[row_indexer,col_indexer] = value instead\n",
      "\n",
      "See the caveats in the documentation: https://pandas.pydata.org/pandas-docs/stable/user_guide/indexing.html#returning-a-view-versus-a-copy\n",
      "  articles_new[['Topic','Article']] = articles_new.new.str.split(\";\",n = 1, expand = True)\n"
     ]
    },
    {
     "data": {
      "text/html": [
       "<div>\n",
       "<style scoped>\n",
       "    .dataframe tbody tr th:only-of-type {\n",
       "        vertical-align: middle;\n",
       "    }\n",
       "\n",
       "    .dataframe tbody tr th {\n",
       "        vertical-align: top;\n",
       "    }\n",
       "\n",
       "    .dataframe thead th {\n",
       "        text-align: right;\n",
       "    }\n",
       "</style>\n",
       "<table border=\"1\" class=\"dataframe\">\n",
       "  <thead>\n",
       "    <tr style=\"text-align: right;\">\n",
       "      <th></th>\n",
       "      <th>new</th>\n",
       "      <th>Topic</th>\n",
       "      <th>Article</th>\n",
       "    </tr>\n",
       "  </thead>\n",
       "  <tbody>\n",
       "    <tr>\n",
       "      <th>0</th>\n",
       "      <td>Sport;21-Jähriger fällt wohl bis Saisonende au...</td>\n",
       "      <td>Sport</td>\n",
       "      <td>21-Jähriger fällt wohl bis Saisonende aus. Wie...</td>\n",
       "    </tr>\n",
       "    <tr>\n",
       "      <th>1</th>\n",
       "      <td>Sport;Traditionsklub setzt sich gegen den FC U...</td>\n",
       "      <td>Sport</td>\n",
       "      <td>Traditionsklub setzt sich gegen den FC Utrecht...</td>\n",
       "    </tr>\n",
       "    <tr>\n",
       "      <th>2</th>\n",
       "      <td>International;Militär setzt Offensive an Grenz...</td>\n",
       "      <td>International</td>\n",
       "      <td>Militär setzt Offensive an Grenze zu Afghanist...</td>\n",
       "    </tr>\n",
       "    <tr>\n",
       "      <th>3</th>\n",
       "      <td>International;Kämpfe halten trotz vereinbarter...</td>\n",
       "      <td>International</td>\n",
       "      <td>Kämpfe halten trotz vereinbarter Waffenruhe an...</td>\n",
       "    </tr>\n",
       "    <tr>\n",
       "      <th>4</th>\n",
       "      <td>Kultur;Der in Graz ansässige Schriftsteller  g...</td>\n",
       "      <td>Kultur</td>\n",
       "      <td>Der in Graz ansässige Schriftsteller  gehörte ...</td>\n",
       "    </tr>\n",
       "  </tbody>\n",
       "</table>\n",
       "</div>"
      ],
      "text/plain": [
       "                                                 new          Topic  \\\n",
       "0  Sport;21-Jähriger fällt wohl bis Saisonende au...          Sport   \n",
       "1  Sport;Traditionsklub setzt sich gegen den FC U...          Sport   \n",
       "2  International;Militär setzt Offensive an Grenz...  International   \n",
       "3  International;Kämpfe halten trotz vereinbarter...  International   \n",
       "4  Kultur;Der in Graz ansässige Schriftsteller  g...         Kultur   \n",
       "\n",
       "                                             Article  \n",
       "0  21-Jähriger fällt wohl bis Saisonende aus. Wie...  \n",
       "1  Traditionsklub setzt sich gegen den FC Utrecht...  \n",
       "2  Militär setzt Offensive an Grenze zu Afghanist...  \n",
       "3  Kämpfe halten trotz vereinbarter Waffenruhe an...  \n",
       "4  Der in Graz ansässige Schriftsteller  gehörte ...  "
      ]
     },
     "execution_count": 2,
     "metadata": {},
     "output_type": "execute_result"
    }
   ],
   "source": [
    "articles['new'] = articles.apply(''.join, axis=1)\n",
    "articles_new = articles[['new']]\n",
    "articles_new[['Topic','Article']] = articles_new.new.str.split(\";\",n = 1, expand = True)\n",
    "articles_new.head()"
   ]
  },
  {
   "cell_type": "code",
   "execution_count": 3,
   "id": "ee7188d2",
   "metadata": {},
   "outputs": [
    {
     "data": {
      "text/html": [
       "<div>\n",
       "<style scoped>\n",
       "    .dataframe tbody tr th:only-of-type {\n",
       "        vertical-align: middle;\n",
       "    }\n",
       "\n",
       "    .dataframe tbody tr th {\n",
       "        vertical-align: top;\n",
       "    }\n",
       "\n",
       "    .dataframe thead th {\n",
       "        text-align: right;\n",
       "    }\n",
       "</style>\n",
       "<table border=\"1\" class=\"dataframe\">\n",
       "  <thead>\n",
       "    <tr style=\"text-align: right;\">\n",
       "      <th></th>\n",
       "      <th>Topic</th>\n",
       "      <th>Article</th>\n",
       "    </tr>\n",
       "  </thead>\n",
       "  <tbody>\n",
       "    <tr>\n",
       "      <th>0</th>\n",
       "      <td>Sport</td>\n",
       "      <td>21-Jähriger fällt wohl bis Saisonende aus. Wie...</td>\n",
       "    </tr>\n",
       "    <tr>\n",
       "      <th>1</th>\n",
       "      <td>Sport</td>\n",
       "      <td>Traditionsklub setzt sich gegen den FC Utrecht...</td>\n",
       "    </tr>\n",
       "    <tr>\n",
       "      <th>2</th>\n",
       "      <td>International</td>\n",
       "      <td>Militär setzt Offensive an Grenze zu Afghanist...</td>\n",
       "    </tr>\n",
       "    <tr>\n",
       "      <th>3</th>\n",
       "      <td>International</td>\n",
       "      <td>Kämpfe halten trotz vereinbarter Waffenruhe an...</td>\n",
       "    </tr>\n",
       "    <tr>\n",
       "      <th>4</th>\n",
       "      <td>Kultur</td>\n",
       "      <td>Der in Graz ansässige Schriftsteller  gehörte ...</td>\n",
       "    </tr>\n",
       "  </tbody>\n",
       "</table>\n",
       "</div>"
      ],
      "text/plain": [
       "           Topic                                            Article\n",
       "0          Sport  21-Jähriger fällt wohl bis Saisonende aus. Wie...\n",
       "1          Sport  Traditionsklub setzt sich gegen den FC Utrecht...\n",
       "2  International  Militär setzt Offensive an Grenze zu Afghanist...\n",
       "3  International  Kämpfe halten trotz vereinbarter Waffenruhe an...\n",
       "4         Kultur  Der in Graz ansässige Schriftsteller  gehörte ..."
      ]
     },
     "execution_count": 3,
     "metadata": {},
     "output_type": "execute_result"
    }
   ],
   "source": [
    "final_df = articles_new[['Topic','Article']]\n",
    "final_df.head()"
   ]
  },
  {
   "cell_type": "code",
   "execution_count": 85,
   "id": "f410e819",
   "metadata": {},
   "outputs": [],
   "source": [
    "import numpy as np\n",
    "\n",
    "rand = final_df[final_df.Topic == 'Sport']\n",
    "\n",
    "rows = np.random.choice(rand.index.values, 1)\n",
    "sampled_df = final_df.loc[rows]\n",
    "sentence = sampled_df['Article'].values[0]"
   ]
  },
  {
   "cell_type": "code",
   "execution_count": 86,
   "id": "fb76b035",
   "metadata": {},
   "outputs": [
    {
     "data": {
      "text/plain": [
       "'Spielberg – Nico Rosberg hat am Sonntag auch die zweite Auflage des Formel-1-Grand-Prix  von Österreich nach dem Comeback im Vorjahr gewonnen. Der 29-jährige Deutsche  triumphierte vor 55.000 Zuschauern in Spielberg vor seinem Mercedes-Stallrivalen  Lewis Hamilton und Felipe Massa im Williams. Ferrari-Star Sebastian Vettel wurde  nach einem verpatzten Boxenstopp Vierter. Rosberg dagegen bejubelte den elften Grand-Prix-Sieg seiner Karriere den  dritten in dieser Saison. In der WM rückte er dem führenden Titelverteidiger  Hamilton wieder bis auf zehn Punkte nahe. Das nächste Rennen geht in zwei Wochen  in Silverstone über die Bühne. '"
      ]
     },
     "execution_count": 86,
     "metadata": {},
     "output_type": "execute_result"
    }
   ],
   "source": [
    "sentence"
   ]
  },
  {
   "cell_type": "code",
   "execution_count": 87,
   "id": "a1936af3",
   "metadata": {},
   "outputs": [
    {
     "data": {
      "text/plain": [
       "['Spielberg – Nico Rosberg hat am Sonntag auch die zweite Auflage des Formel-1-Grand-Prix  von Österreich nach dem Comeback im Vorjahr gewonnen',\n",
       " 'Der 29-jährige Deutsche  triumphierte vor 55.000 Zuschauern in Spielberg vor seinem Mercedes-Stallrivalen  Lewis Hamilton und Felipe Massa im Williams',\n",
       " 'Ferrari-Star Sebastian Vettel wurde  nach einem verpatzten Boxenstopp Vierter',\n",
       " 'Rosberg dagegen bejubelte den elften Grand-Prix-Sieg seiner Karriere den  dritten in dieser Saison',\n",
       " 'In der WM rückte er dem führenden Titelverteidiger  Hamilton wieder bis auf zehn Punkte nahe',\n",
       " 'Das nächste Rennen geht in zwei Wochen  in Silverstone über die Bühne',\n",
       " '']"
      ]
     },
     "execution_count": 87,
     "metadata": {},
     "output_type": "execute_result"
    }
   ],
   "source": [
    "sen = str(sentence).split('. ')\n",
    "sen"
   ]
  },
  {
   "cell_type": "markdown",
   "id": "739df0a5",
   "metadata": {},
   "source": [
    "# BERT Translator"
   ]
  },
  {
   "cell_type": "code",
   "execution_count": 88,
   "id": "553d7be3",
   "metadata": {},
   "outputs": [
    {
     "name": "stderr",
     "output_type": "stream",
     "text": [
      "Special tokens have been added in the vocabulary, make sure the associated word embeddings are fine-tuned or trained.\n"
     ]
    }
   ],
   "source": [
    "# BERT Translator\n",
    "\n",
    "from transformers import AutoTokenizer, AutoModelForSeq2SeqLM\n",
    "\n",
    "tokenizer = AutoTokenizer.from_pretrained(\"google/bert2bert_L-24_wmt_de_en\", pad_token=\"<pad>\", eos_token=\"</s>\", bos_token=\"<s>\")\n",
    "model = AutoModelForSeq2SeqLM.from_pretrained(\"google/bert2bert_L-24_wmt_de_en\")\n",
    "\n"
   ]
  },
  {
   "cell_type": "code",
   "execution_count": 89,
   "id": "1dfa14da",
   "metadata": {},
   "outputs": [
    {
     "name": "stdout",
     "output_type": "stream",
     "text": [
      "Spielberg – Nico Rosberg hat am Sonntag auch die zweite Auflage des Formel-1-Grand-Prix  von Österreich nach dem Comeback im Vorjahr gewonnen\n"
     ]
    },
    {
     "name": "stderr",
     "output_type": "stream",
     "text": [
      "/Users/sumitha/opt/miniconda3/envs/tensorflow/lib/python3.9/site-packages/transformers/generation/utils.py:1387: UserWarning: Neither `max_length` nor `max_new_tokens` has been set, `max_length` will default to 128 (`self.config.max_length`). Controlling `max_length` via the config is deprecated and `max_length` will be removed from the config in v5 of Transformers -- we recommend using `max_new_tokens` to control the maximum length of the generation.\n",
      "  warnings.warn(\n"
     ]
    },
    {
     "name": "stdout",
     "output_type": "stream",
     "text": [
      "Der 29-jährige Deutsche  triumphierte vor 55.000 Zuschauern in Spielberg vor seinem Mercedes-Stallrivalen  Lewis Hamilton und Felipe Massa im Williams\n",
      "Ferrari-Star Sebastian Vettel wurde  nach einem verpatzten Boxenstopp Vierter\n",
      "Rosberg dagegen bejubelte den elften Grand-Prix-Sieg seiner Karriere den  dritten in dieser Saison\n",
      "In der WM rückte er dem führenden Titelverteidiger  Hamilton wieder bis auf zehn Punkte nahe\n",
      "Das nächste Rennen geht in zwei Wochen  in Silverstone über die Bühne\n"
     ]
    }
   ],
   "source": [
    "output = []\n",
    "for i in sen:\n",
    "    if len(i)>1:\n",
    "        print(i)\n",
    "        input_ids = tokenizer(i, return_tensors=\"pt\", add_special_tokens=False).input_ids\n",
    "        output_ids = model.generate(input_ids)[0]\n",
    "        translated_text = tokenizer.decode(output_ids, skip_special_tokens=True)\n",
    "        output.append(translated_text)"
   ]
  },
  {
   "cell_type": "markdown",
   "id": "a7bbb392",
   "metadata": {},
   "source": [
    "# Summarizer using Tokenization"
   ]
  },
  {
   "cell_type": "code",
   "execution_count": 90,
   "id": "a5e6f0bc",
   "metadata": {},
   "outputs": [],
   "source": [
    "import nltk\n",
    "from string import punctuation\n",
    "from nltk.corpus import stopwords\n",
    "from nltk.tokenize import word_tokenize\n",
    "from nltk.tokenize import sent_tokenize "
   ]
  },
  {
   "cell_type": "code",
   "execution_count": 91,
   "id": "8c26c655",
   "metadata": {},
   "outputs": [],
   "source": [
    "value = ' '.join(output)"
   ]
  },
  {
   "cell_type": "code",
   "execution_count": 92,
   "id": "ff19917f",
   "metadata": {
    "scrolled": true
   },
   "outputs": [
    {
     "data": {
      "text/plain": [
       "'spielberg – nico rosberg also won the second edition of the formel - 1 - grand - prix of Austria on Sunday after the comeback of the previous year. the 29-year-old German triumphed in front of 55.000 spectators in spielberg before his mercedes - stall rival lewis hamilton and felipe massa in the williams. Ferrari - star sebastian vettel took fourth place after an unsuccessful boxing stop. rosberg, on the other hand, cheered the eleventh Grand-Prix - winner of his career the third in this season. in the wm he rucked again the leading title defender hamilton close to ten points. the best run goes in two weeks in silverstone over the bridge.'"
      ]
     },
     "execution_count": 92,
     "metadata": {},
     "output_type": "execute_result"
    }
   ],
   "source": [
    "value"
   ]
  },
  {
   "cell_type": "code",
   "execution_count": 93,
   "id": "a5646dbd",
   "metadata": {},
   "outputs": [],
   "source": [
    "tokens = word_tokenize(value) "
   ]
  },
  {
   "cell_type": "code",
   "execution_count": 94,
   "id": "52070ff5",
   "metadata": {},
   "outputs": [
    {
     "name": "stderr",
     "output_type": "stream",
     "text": [
      "[nltk_data] Downloading package stopwords to\n",
      "[nltk_data]     /Users/sumitha/nltk_data...\n",
      "[nltk_data]   Package stopwords is already up-to-date!\n"
     ]
    }
   ],
   "source": [
    "nltk.download(\"stopwords\")\n",
    "stop_words = stopwords.words('english')"
   ]
  },
  {
   "cell_type": "code",
   "execution_count": 95,
   "id": "8d9a7633",
   "metadata": {},
   "outputs": [
    {
     "data": {
      "text/plain": [
       "'!\"#$%&\\'()*+,-./:;<=>?@[\\\\]^_`{|}~\\n'"
      ]
     },
     "execution_count": 95,
     "metadata": {},
     "output_type": "execute_result"
    }
   ],
   "source": [
    "punctuation = punctuation + '\\n'\n",
    "punctuation"
   ]
  },
  {
   "cell_type": "code",
   "execution_count": 96,
   "id": "7208e415",
   "metadata": {},
   "outputs": [],
   "source": [
    "word_frequencies = {}\n",
    "for word in tokens:    \n",
    "    if word.lower() not in stop_words:\n",
    "        if word.lower() not in punctuation:\n",
    "            if word not in word_frequencies.keys():\n",
    "                word_frequencies[word] = 1\n",
    "            else:\n",
    "                word_frequencies[word] += 1"
   ]
  },
  {
   "cell_type": "code",
   "execution_count": 97,
   "id": "9416ad10",
   "metadata": {},
   "outputs": [
    {
     "name": "stdout",
     "output_type": "stream",
     "text": [
      "2\n"
     ]
    }
   ],
   "source": [
    "max_frequency = max(word_frequencies.values())\n",
    "print(max_frequency)"
   ]
  },
  {
   "cell_type": "code",
   "execution_count": 98,
   "id": "95f15df2",
   "metadata": {},
   "outputs": [],
   "source": [
    "for word in word_frequencies.keys():\n",
    "    word_frequencies[word] = word_frequencies[word]/max_frequency"
   ]
  },
  {
   "cell_type": "code",
   "execution_count": 99,
   "id": "97789068",
   "metadata": {},
   "outputs": [
    {
     "data": {
      "text/plain": [
       "['spielberg – nico rosberg also won the second edition of the formel - 1 - grand - prix of Austria on Sunday after the comeback of the previous year.',\n",
       " 'the 29-year-old German triumphed in front of 55.000 spectators in spielberg before his mercedes - stall rival lewis hamilton and felipe massa in the williams.',\n",
       " 'Ferrari - star sebastian vettel took fourth place after an unsuccessful boxing stop.',\n",
       " 'rosberg, on the other hand, cheered the eleventh Grand-Prix - winner of his career the third in this season.',\n",
       " 'in the wm he rucked again the leading title defender hamilton close to ten points.',\n",
       " 'the best run goes in two weeks in silverstone over the bridge.']"
      ]
     },
     "execution_count": 99,
     "metadata": {},
     "output_type": "execute_result"
    }
   ],
   "source": [
    "sent_token = sent_tokenize(value)\n",
    "sent_token"
   ]
  },
  {
   "cell_type": "code",
   "execution_count": 100,
   "id": "ab9d1d03",
   "metadata": {},
   "outputs": [],
   "source": [
    "sentence_scores = {}\n",
    "for sent in sent_token:\n",
    "    sentence = sent.split(\" \")\n",
    "    for word in sentence:        \n",
    "        if word.lower() in word_frequencies.keys():\n",
    "            if sent not in sentence_scores.keys():\n",
    "                sentence_scores[sent] = word_frequencies[word.lower()]\n",
    "            else:\n",
    "                sentence_scores[sent] += word_frequencies[word.lower()]"
   ]
  },
  {
   "cell_type": "code",
   "execution_count": 101,
   "id": "174ee8f6",
   "metadata": {},
   "outputs": [
    {
     "data": {
      "text/plain": [
       "{'spielberg – nico rosberg also won the second edition of the formel - 1 - grand - prix of Austria on Sunday after the comeback of the previous year.': 7.5,\n",
       " 'the 29-year-old German triumphed in front of 55.000 spectators in spielberg before his mercedes - stall rival lewis hamilton and felipe massa in the williams.': 7.5,\n",
       " 'Ferrari - star sebastian vettel took fourth place after an unsuccessful boxing stop.': 4.0,\n",
       " 'rosberg, on the other hand, cheered the eleventh Grand-Prix - winner of his career the third in this season.': 2.5,\n",
       " 'in the wm he rucked again the leading title defender hamilton close to ten points.': 4.5,\n",
       " 'the best run goes in two weeks in silverstone over the bridge.': 3.0}"
      ]
     },
     "execution_count": 101,
     "metadata": {},
     "output_type": "execute_result"
    }
   ],
   "source": [
    "sentence_scores"
   ]
  },
  {
   "cell_type": "code",
   "execution_count": 102,
   "id": "cbf5a0b1",
   "metadata": {},
   "outputs": [],
   "source": [
    "from heapq import nlargest"
   ]
  },
  {
   "cell_type": "code",
   "execution_count": 103,
   "id": "8ab948d8",
   "metadata": {},
   "outputs": [
    {
     "data": {
      "text/plain": [
       "1"
      ]
     },
     "execution_count": 103,
     "metadata": {},
     "output_type": "execute_result"
    }
   ],
   "source": [
    "select_length = int(len(sent_token)*0.3)\n",
    "select_length"
   ]
  },
  {
   "cell_type": "code",
   "execution_count": 104,
   "id": "b8c25a37",
   "metadata": {},
   "outputs": [
    {
     "data": {
      "text/plain": [
       "['spielberg – nico rosberg also won the second edition of the formel - 1 - grand - prix of Austria on Sunday after the comeback of the previous year.']"
      ]
     },
     "execution_count": 104,
     "metadata": {},
     "output_type": "execute_result"
    }
   ],
   "source": [
    "summary = nlargest(select_length, sentence_scores, key = sentence_scores.get)\n",
    "summary"
   ]
  },
  {
   "cell_type": "code",
   "execution_count": 105,
   "id": "29d446fc",
   "metadata": {},
   "outputs": [
    {
     "data": {
      "text/plain": [
       "'spielberg – nico rosberg also won the second edition of the formel - 1 - grand - prix of Austria on Sunday after the comeback of the previous year.'"
      ]
     },
     "execution_count": 105,
     "metadata": {},
     "output_type": "execute_result"
    }
   ],
   "source": [
    "summary_sentence = ''.join(summary)\n",
    "summary_sentence"
   ]
  },
  {
   "cell_type": "markdown",
   "id": "306296f5",
   "metadata": {},
   "source": [
    "## BERT Summarizer"
   ]
  },
  {
   "cell_type": "code",
   "execution_count": 106,
   "id": "e7dd8767",
   "metadata": {},
   "outputs": [],
   "source": [
    "from keybert import KeyBERT"
   ]
  },
  {
   "cell_type": "code",
   "execution_count": 107,
   "id": "f818bbf7",
   "metadata": {},
   "outputs": [
    {
     "name": "stderr",
     "output_type": "stream",
     "text": [
      "Some weights of the model checkpoint at bert-large-uncased were not used when initializing BertModel: ['cls.predictions.bias', 'cls.predictions.transform.LayerNorm.bias', 'cls.predictions.transform.dense.weight', 'cls.predictions.decoder.weight', 'cls.seq_relationship.bias', 'cls.seq_relationship.weight', 'cls.predictions.transform.LayerNorm.weight', 'cls.predictions.transform.dense.bias']\n",
      "- This IS expected if you are initializing BertModel from the checkpoint of a model trained on another task or with another architecture (e.g. initializing a BertForSequenceClassification model from a BertForPreTraining model).\n",
      "- This IS NOT expected if you are initializing BertModel from the checkpoint of a model that you expect to be exactly identical (initializing a BertForSequenceClassification model from a BertForSequenceClassification model).\n"
     ]
    }
   ],
   "source": [
    "from summarizer import Summarizer\n",
    "model = Summarizer()\n",
    "\n",
    "from tqdm import tqdm\n",
    "bert_predicted_summary = []\n",
    "\n",
    "x = model(str(value))\n",
    "bert_predicted_summary.append(x)\n"
   ]
  },
  {
   "cell_type": "code",
   "execution_count": 108,
   "id": "b4e29763",
   "metadata": {},
   "outputs": [
    {
     "data": {
      "text/plain": [
       "['spielberg – nico rosberg also won the second edition of the formel - 1 - grand - prix of Austria on Sunday after the comeback of the previous year. the 29-year-old German triumphed in front of 55.000 spectators in spielberg before his mercedes - stall rival lewis hamilton and felipe massa in the williams.']"
      ]
     },
     "execution_count": 108,
     "metadata": {},
     "output_type": "execute_result"
    }
   ],
   "source": [
    "bert_predicted_summary"
   ]
  },
  {
   "cell_type": "code",
   "execution_count": 109,
   "id": "4483fb5c",
   "metadata": {},
   "outputs": [
    {
     "data": {
      "text/plain": [
       "['spielberg – nico rosberg also won the second edition of the formel - 1 - grand - prix of Austria on Sunday after the comeback of the previous year',\n",
       " ' the 29-year-old German triumphed in front of 55',\n",
       " '000 spectators in spielberg before his mercedes - stall rival lewis hamilton and felipe massa in the williams',\n",
       " '']"
      ]
     },
     "execution_count": 109,
     "metadata": {},
     "output_type": "execute_result"
    }
   ],
   "source": [
    "summary_text = bert_predicted_summary[0].split('.')\n",
    "summary_text"
   ]
  },
  {
   "cell_type": "markdown",
   "id": "6f644018",
   "metadata": {},
   "source": [
    "# Keyword Extractor"
   ]
  },
  {
   "cell_type": "code",
   "execution_count": 110,
   "id": "2afc7b7e",
   "metadata": {},
   "outputs": [
    {
     "name": "stdout",
     "output_type": "stream",
     "text": [
      "['rosberg', 'prix', 'formel', 'mercedes', 'nico', 'won', 'german', 'spielberg', 'austria', 'triumphed']\n"
     ]
    }
   ],
   "source": [
    "kw_model = KeyBERT(model='all-mpnet-base-v2')\n",
    "\n",
    "keywords = kw_model.extract_keywords(bert_predicted_summary, \n",
    "\n",
    "                                     keyphrase_ngram_range=(1, 1), \n",
    "\n",
    "                                     stop_words='english', \n",
    "\n",
    "                                     highlight=False,\n",
    "\n",
    "                                     top_n=10)\n",
    "\n",
    "keywords_list= list(dict(keywords).keys())\n",
    "\n",
    "print(keywords_list)"
   ]
  },
  {
   "cell_type": "code",
   "execution_count": 111,
   "id": "d4489f1e",
   "metadata": {},
   "outputs": [
    {
     "data": {
      "text/plain": [
       "[('rosberg', 0.5165),\n",
       " ('prix', 0.3789),\n",
       " ('formel', 0.364),\n",
       " ('mercedes', 0.3413),\n",
       " ('nico', 0.2904),\n",
       " ('won', 0.2524),\n",
       " ('german', 0.2277),\n",
       " ('spielberg', 0.2264),\n",
       " ('austria', 0.2243),\n",
       " ('triumphed', 0.2068)]"
      ]
     },
     "execution_count": 111,
     "metadata": {},
     "output_type": "execute_result"
    }
   ],
   "source": [
    "keywords"
   ]
  },
  {
   "cell_type": "markdown",
   "id": "136084fd",
   "metadata": {},
   "source": [
    "# Distractor Generator"
   ]
  },
  {
   "cell_type": "code",
   "execution_count": 112,
   "id": "35de6fe6",
   "metadata": {},
   "outputs": [],
   "source": [
    "glove_file = 'glove.6B.300d.txt'\n",
    "tmp_file = 'word2vec-glove.6B.300d.txt'"
   ]
  },
  {
   "cell_type": "code",
   "execution_count": 113,
   "id": "34fe9b60",
   "metadata": {},
   "outputs": [],
   "source": [
    "import gensim\n",
    "from gensim.test.utils import datapath, get_tmpfile\n",
    "from gensim.models import KeyedVectors"
   ]
  },
  {
   "cell_type": "code",
   "execution_count": 114,
   "id": "675eae41",
   "metadata": {},
   "outputs": [
    {
     "data": {
      "text/plain": [
       "(400000, 300)"
      ]
     },
     "execution_count": 114,
     "metadata": {},
     "output_type": "execute_result"
    }
   ],
   "source": [
    "from gensim.scripts.glove2word2vec import glove2word2vec\n",
    "glove2word2vec(glove_file, tmp_file)\n"
   ]
  },
  {
   "cell_type": "code",
   "execution_count": 115,
   "id": "b8af2c80",
   "metadata": {},
   "outputs": [],
   "source": [
    "model = KeyedVectors.load_word2vec_format(tmp_file)\n",
    "def generate_distractors(answer, count):\n",
    "    answer = str.lower(answer) \n",
    "    closestWords = model.most_similar(positive=[answer], topn=count+1)\n",
    "    distractors = list(map(lambda x: x[0], closestWords))\n",
    "    return distractors\n"
   ]
  },
  {
   "cell_type": "code",
   "execution_count": 116,
   "id": "d76a30c6",
   "metadata": {},
   "outputs": [],
   "source": [
    "import re\n",
    "import random\n",
    "def generate_questions(summary):\n",
    "    for i in summary:\n",
    "        for j in keywords_list[3:]:\n",
    "            if j in i.lower():\n",
    "                op = []\n",
    "                compiled = re.compile(re.escape(j), re.IGNORECASE)\n",
    "                print(compiled.sub('______', i))\n",
    "                options = generate_distractors(j,4)\n",
    "                op.append(j)\n",
    "                for i in options:\n",
    "                    if i not in j and j not in i:\n",
    "                        op.append(i)\n",
    "                random.shuffle(op)\n",
    "                print(op)\n",
    "                print('')"
   ]
  },
  {
   "cell_type": "markdown",
   "id": "6fe44845",
   "metadata": {},
   "source": [
    "# Final Multi-Choice Questions"
   ]
  },
  {
   "cell_type": "code",
   "execution_count": 117,
   "id": "cf307847",
   "metadata": {},
   "outputs": [
    {
     "name": "stdout",
     "output_type": "stream",
     "text": [
      "spielberg – ______ rosberg also won the second edition of the formel - 1 - grand - prix of Austria on Sunday after the comeback of the previous year\n",
      "['hülkenberg', 'rosberg', 'nico', 'hulkenberg', 'heidfeld', 'douga']\n",
      "\n",
      " the 29-year-old ______ triumphed in front of 55\n",
      "['austrian', 'berlin', 'polish', 'german']\n",
      "\n",
      "000 spectators in spielberg before his ______ - stall rival lewis hamilton and felipe massa in the williams\n",
      "['daimler', 'bmw', 'lexus', 'audi', 'mercedes', 'benz']\n",
      "\n"
     ]
    }
   ],
   "source": [
    "generate_questions(summary_text)"
   ]
  },
  {
   "cell_type": "code",
   "execution_count": null,
   "id": "1f869542",
   "metadata": {},
   "outputs": [],
   "source": []
  }
 ],
 "metadata": {
  "kernelspec": {
   "display_name": "Python 3 (ipykernel)",
   "language": "python",
   "name": "python3"
  },
  "language_info": {
   "codemirror_mode": {
    "name": "ipython",
    "version": 3
   },
   "file_extension": ".py",
   "mimetype": "text/x-python",
   "name": "python",
   "nbconvert_exporter": "python",
   "pygments_lexer": "ipython3",
   "version": "3.9.13"
  }
 },
 "nbformat": 4,
 "nbformat_minor": 5
}
